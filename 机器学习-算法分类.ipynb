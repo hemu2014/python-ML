{
  "nbformat": 4,
  "nbformat_minor": 0,
  "metadata": {
    "colab": {
      "provenance": [],
      "authorship_tag": "ABX9TyOYwNZJlFMhk6n1WpbCYu6d",
      "include_colab_link": true
    },
    "kernelspec": {
      "name": "python3",
      "display_name": "Python 3"
    },
    "language_info": {
      "name": "python"
    }
  },
  "cells": [
    {
      "cell_type": "markdown",
      "metadata": {
        "id": "view-in-github",
        "colab_type": "text"
      },
      "source": [
        "<a href=\"https://colab.research.google.com/github/hemu2014/python-ML/blob/main/%E6%9C%BA%E5%99%A8%E5%AD%A6%E4%B9%A0-%E7%AE%97%E6%B3%95%E5%88%86%E7%B1%BB.ipynb\" target=\"_parent\"><img src=\"https://colab.research.google.com/assets/colab-badge.svg\" alt=\"Open In Colab\"/></a>"
      ]
    },
    {
      "cell_type": "code",
      "execution_count": 13,
      "metadata": {
        "colab": {
          "base_uri": "https://localhost:8080/"
        },
        "id": "mHk7PrKta-7c",
        "outputId": "e56151a3-964a-4151-d2bc-9acb5c31833d"
      },
      "outputs": [
        {
          "output_type": "stream",
          "name": "stdout",
          "text": [
            "训练集元素格式: (TensorSpec(shape=(None, 4), dtype=tf.float64, name=None), TensorSpec(shape=(None,), dtype=tf.int64, name=None))\n"
          ]
        }
      ],
      "source": [
        "import tensorflow as tf\n",
        "import pandas as pd\n",
        "\n",
        "# 数据加载与预处理\n",
        "csv_columns = ['SepalLength', 'SepalWidth', 'PetalLength', 'PetalWidth', 'Species']\n",
        "train_path = tf.keras.utils.get_file('iris_training.csv', \"https://storage.googleapis.com/download.tensorflow.org/data/iris_training.csv\")\n",
        "test_path = tf.keras.utils.get_file('iris_test.csv', \"https://storage.googleapis.com/download.tensorflow.org/data/iris_test.csv\")\n",
        "\n",
        "train = pd.read_csv(train_path, names=csv_columns, header=0)\n",
        "test = pd.read_csv(test_path, names=csv_columns, header=0)\n",
        "train_y = train.pop(\"Species\")\n",
        "test_y = test.pop(\"Species\")\n",
        "\n",
        "# 定义输入函数（显式指定数据类型）\n",
        "def input_fn(features, labels, training=True, batch_size=32):\n",
        "    #features_tensor = tf.convert_to_tensor(features.values, dtype=tf.float32)\n",
        "    #labels_tensor = tf.convert_to_tensor(labels.values, dtype=tf.int32)\n",
        "    #dataset = tf.data.Dataset.from_tensor_slices((features_tensor, labels_tensor))\n",
        "    dataset = tf.data.Dataset.from_tensor_slices((features.values, labels.values))\n",
        "    if training:\n",
        "        dataset = dataset.shuffle(1000).repeat()\n",
        "    return dataset.batch(batch_size)\n",
        "\n",
        "# 创建数据集\n",
        "train_set = input_fn(train, train_y, training=True)\n",
        "test_set = input_fn(test, test_y, training=False)\n",
        "\n",
        "# 检查数据集格式\n",
        "print(\"训练集元素格式:\", train_set.element_spec)"
      ]
    },
    {
      "cell_type": "code",
      "source": [
        "# 构建归一化层\n",
        "normalizer = tf.keras.layers.Normalization(axis=-1, input_shape=[4])\n",
        "normalizer.adapt(train.values)  # 确保适配正确的数据\n",
        "\n",
        "# 构建模型\n",
        "model = tf.keras.Sequential([\n",
        "    normalizer,\n",
        "    tf.keras.layers.Dense(30, activation='relu'),\n",
        "    tf.keras.layers.Dense(10, activation='relu'),\n",
        "    tf.keras.layers.Dense(3, activation='softmax')\n",
        "])\n",
        "\n",
        "# 编译模型\n",
        "model.compile(\n",
        "    optimizer='adam',\n",
        "    loss='sparse_categorical_crossentropy',\n",
        "    metrics=['accuracy']\n",
        ")\n",
        "\n",
        "# 计算合理的 steps_per_epoch\n",
        "batch_size = 32\n",
        "num_train_samples = len(train)\n",
        "steps_per_epoch = (num_train_samples + batch_size - 1) // batch_size\n",
        "\n",
        "# 训练模型\n",
        "model.fit(\n",
        "    train_set,\n",
        "    epochs=50,\n",
        "    steps_per_epoch=steps_per_epoch,\n",
        "    #validation_data=test_set,\n",
        "    verbose=2\n",
        ")"
      ],
      "metadata": {
        "colab": {
          "base_uri": "https://localhost:8080/"
        },
        "id": "qBBLe250brrj",
        "outputId": "6f8a4c91-0127-4c4b-b24d-08875e8345d2"
      },
      "execution_count": 14,
      "outputs": [
        {
          "output_type": "stream",
          "name": "stdout",
          "text": [
            "Epoch 1/50\n"
          ]
        },
        {
          "output_type": "stream",
          "name": "stderr",
          "text": [
            "/usr/local/lib/python3.11/dist-packages/keras/src/layers/preprocessing/tf_data_layer.py:19: UserWarning: Do not pass an `input_shape`/`input_dim` argument to a layer. When using Sequential models, prefer using an `Input(shape)` object as the first layer in the model instead.\n",
            "  super().__init__(**kwargs)\n"
          ]
        },
        {
          "output_type": "stream",
          "name": "stdout",
          "text": [
            "4/4 - 1s - 297ms/step - accuracy: 0.3438 - loss: 1.0582\n",
            "Epoch 2/50\n",
            "4/4 - 0s - 3ms/step - accuracy: 0.3438 - loss: 1.0010\n",
            "Epoch 3/50\n",
            "4/4 - 0s - 3ms/step - accuracy: 0.5000 - loss: 0.9730\n",
            "Epoch 4/50\n",
            "4/4 - 0s - 3ms/step - accuracy: 0.6172 - loss: 0.9214\n",
            "Epoch 5/50\n",
            "4/4 - 0s - 3ms/step - accuracy: 0.7188 - loss: 0.8788\n",
            "Epoch 6/50\n",
            "4/4 - 0s - 3ms/step - accuracy: 0.8047 - loss: 0.8221\n",
            "Epoch 7/50\n",
            "4/4 - 0s - 3ms/step - accuracy: 0.7031 - loss: 0.8197\n",
            "Epoch 8/50\n",
            "4/4 - 0s - 3ms/step - accuracy: 0.8047 - loss: 0.7752\n",
            "Epoch 9/50\n",
            "4/4 - 0s - 3ms/step - accuracy: 0.7734 - loss: 0.7543\n",
            "Epoch 10/50\n",
            "4/4 - 0s - 3ms/step - accuracy: 0.7578 - loss: 0.7584\n",
            "Epoch 11/50\n",
            "4/4 - 0s - 3ms/step - accuracy: 0.8203 - loss: 0.6833\n",
            "Epoch 12/50\n",
            "4/4 - 0s - 3ms/step - accuracy: 0.7891 - loss: 0.6911\n",
            "Epoch 13/50\n",
            "4/4 - 0s - 3ms/step - accuracy: 0.7969 - loss: 0.6897\n",
            "Epoch 14/50\n",
            "4/4 - 0s - 3ms/step - accuracy: 0.8281 - loss: 0.6126\n",
            "Epoch 15/50\n",
            "4/4 - 0s - 3ms/step - accuracy: 0.7969 - loss: 0.6480\n",
            "Epoch 16/50\n",
            "4/4 - 0s - 3ms/step - accuracy: 0.8281 - loss: 0.6013\n",
            "Epoch 17/50\n",
            "4/4 - 0s - 3ms/step - accuracy: 0.7891 - loss: 0.6141\n",
            "Epoch 18/50\n",
            "4/4 - 0s - 3ms/step - accuracy: 0.8359 - loss: 0.5674\n",
            "Epoch 19/50\n",
            "4/4 - 0s - 4ms/step - accuracy: 0.8516 - loss: 0.5546\n",
            "Epoch 20/50\n",
            "4/4 - 0s - 4ms/step - accuracy: 0.8594 - loss: 0.5251\n",
            "Epoch 21/50\n",
            "4/4 - 0s - 3ms/step - accuracy: 0.8672 - loss: 0.5202\n",
            "Epoch 22/50\n",
            "4/4 - 0s - 3ms/step - accuracy: 0.8203 - loss: 0.5205\n",
            "Epoch 23/50\n",
            "4/4 - 0s - 3ms/step - accuracy: 0.8359 - loss: 0.5019\n",
            "Epoch 24/50\n",
            "4/4 - 0s - 3ms/step - accuracy: 0.8516 - loss: 0.4627\n",
            "Epoch 25/50\n",
            "4/4 - 0s - 3ms/step - accuracy: 0.8281 - loss: 0.4867\n",
            "Epoch 26/50\n",
            "4/4 - 0s - 3ms/step - accuracy: 0.8750 - loss: 0.4177\n",
            "Epoch 27/50\n",
            "4/4 - 0s - 3ms/step - accuracy: 0.8828 - loss: 0.3892\n",
            "Epoch 28/50\n",
            "4/4 - 0s - 3ms/step - accuracy: 0.8203 - loss: 0.4455\n",
            "Epoch 29/50\n",
            "4/4 - 0s - 3ms/step - accuracy: 0.8672 - loss: 0.3978\n",
            "Epoch 30/50\n",
            "4/4 - 0s - 3ms/step - accuracy: 0.8359 - loss: 0.3954\n",
            "Epoch 31/50\n",
            "4/4 - 0s - 3ms/step - accuracy: 0.8594 - loss: 0.3762\n",
            "Epoch 32/50\n",
            "4/4 - 0s - 4ms/step - accuracy: 0.8516 - loss: 0.3706\n",
            "Epoch 33/50\n",
            "4/4 - 0s - 4ms/step - accuracy: 0.8203 - loss: 0.3772\n",
            "Epoch 34/50\n",
            "4/4 - 0s - 5ms/step - accuracy: 0.8672 - loss: 0.3416\n",
            "Epoch 35/50\n",
            "4/4 - 0s - 4ms/step - accuracy: 0.8828 - loss: 0.3077\n",
            "Epoch 36/50\n",
            "4/4 - 0s - 3ms/step - accuracy: 0.8516 - loss: 0.3441\n",
            "Epoch 37/50\n",
            "4/4 - 0s - 3ms/step - accuracy: 0.8906 - loss: 0.3047\n",
            "Epoch 38/50\n",
            "4/4 - 0s - 3ms/step - accuracy: 0.8828 - loss: 0.3199\n",
            "Epoch 39/50\n",
            "4/4 - 0s - 4ms/step - accuracy: 0.8750 - loss: 0.2884\n",
            "Epoch 40/50\n",
            "4/4 - 0s - 3ms/step - accuracy: 0.8594 - loss: 0.3090\n",
            "Epoch 41/50\n",
            "4/4 - 0s - 3ms/step - accuracy: 0.9219 - loss: 0.2543\n",
            "Epoch 42/50\n",
            "4/4 - 0s - 3ms/step - accuracy: 0.8750 - loss: 0.2960\n",
            "Epoch 43/50\n",
            "4/4 - 0s - 3ms/step - accuracy: 0.8828 - loss: 0.2892\n",
            "Epoch 44/50\n",
            "4/4 - 0s - 3ms/step - accuracy: 0.9141 - loss: 0.2531\n",
            "Epoch 45/50\n",
            "4/4 - 0s - 3ms/step - accuracy: 0.9141 - loss: 0.2581\n",
            "Epoch 46/50\n",
            "4/4 - 0s - 3ms/step - accuracy: 0.9219 - loss: 0.2647\n",
            "Epoch 47/50\n",
            "4/4 - 0s - 3ms/step - accuracy: 0.9219 - loss: 0.2202\n",
            "Epoch 48/50\n",
            "4/4 - 0s - 3ms/step - accuracy: 0.9062 - loss: 0.2485\n",
            "Epoch 49/50\n",
            "4/4 - 0s - 3ms/step - accuracy: 0.9297 - loss: 0.2269\n",
            "Epoch 50/50\n",
            "4/4 - 0s - 3ms/step - accuracy: 0.9219 - loss: 0.2269\n"
          ]
        },
        {
          "output_type": "execute_result",
          "data": {
            "text/plain": [
              "<keras.src.callbacks.history.History at 0x78c89924efd0>"
            ]
          },
          "metadata": {},
          "execution_count": 14
        }
      ]
    },
    {
      "cell_type": "code",
      "source": [
        "loss, accuracy = model.evaluate(test_set, verbose=2)                # ②\n",
        "print(f'\\nTest set accuracy: {accuracy:.3f}')"
      ],
      "metadata": {
        "colab": {
          "base_uri": "https://localhost:8080/"
        },
        "id": "dUEpKhdDb3U7",
        "outputId": "070d62d3-2045-4eed-f93c-bda56d363782"
      },
      "execution_count": 15,
      "outputs": [
        {
          "output_type": "stream",
          "name": "stdout",
          "text": [
            "1/1 - 0s - 164ms/step - accuracy: 0.9333 - loss: 0.2800\n",
            "\n",
            "Test set accuracy: 0.933\n"
          ]
        }
      ]
    },
    {
      "cell_type": "code",
      "source": [
        "import numpy as np\n",
        "SPECIES = ['Setosa', 'Versicolor', 'Virginica']\n",
        "\n",
        "# 6. 预测逻辑示例\n",
        "# 6.1 单个样本预测\n",
        "sample = np.array([[5.1, 3.3, 1.7, 0.5]], dtype=np.float32)\n",
        "probs  = model.predict(sample)              # 形状 (1,3)\n",
        "pred   = np.argmax(probs, axis=1)[0]       # 得到类别索引 0/1/2\n",
        "print(f\"Sample features: {sample.flatten().tolist()}\")\n",
        "print(f\"Predicted probabilities: {probs.flatten().tolist()}\")\n",
        "print(f\"Predicted class index: {pred} -> {SPECIES[pred]}\")\n",
        "\n",
        "# 6.2 批量样本预测（以测试集前5条为例）\n",
        "batch_samples = test.values[:5, :4].astype(np.float32)\n",
        "batch_probs   = model.predict(batch_samples)\n",
        "batch_pred    = np.argmax(batch_probs, axis=1)\n",
        "for i, feat in enumerate(batch_samples):\n",
        "    print(f\"\\nSample {i+1}: {feat.tolist()}\")\n",
        "    print(f\"  True label:    {SPECIES[test_y.iloc[i]]}\")\n",
        "    print(f\"  Pred probabilities: {batch_probs[i].tolist()}\")\n",
        "    print(f\"  Predicted class:    {SPECIES[batch_pred[i]]}\")"
      ],
      "metadata": {
        "colab": {
          "base_uri": "https://localhost:8080/"
        },
        "id": "PamdxMaicDFr",
        "outputId": "d167a0fb-5145-46c9-8acc-86eb9d3f1b6c"
      },
      "execution_count": 16,
      "outputs": [
        {
          "output_type": "stream",
          "name": "stdout",
          "text": [
            "\u001b[1m1/1\u001b[0m \u001b[32m━━━━━━━━━━━━━━━━━━━━\u001b[0m\u001b[37m\u001b[0m \u001b[1m0s\u001b[0m 79ms/step\n",
            "Sample features: [5.099999904632568, 3.299999952316284, 1.7000000476837158, 0.5]\n",
            "Predicted probabilities: [0.9073820114135742, 0.034905724227428436, 0.05771222338080406]\n",
            "Predicted class index: 0 -> Setosa\n",
            "\u001b[1m1/1\u001b[0m \u001b[32m━━━━━━━━━━━━━━━━━━━━\u001b[0m\u001b[37m\u001b[0m \u001b[1m0s\u001b[0m 76ms/step\n",
            "\n",
            "Sample 1: [5.900000095367432, 3.0, 4.199999809265137, 1.5]\n",
            "  True label:    Versicolor\n",
            "  Pred probabilities: [0.05209425091743469, 0.5164095759391785, 0.43149617314338684]\n",
            "  Predicted class:    Versicolor\n",
            "\n",
            "Sample 2: [6.900000095367432, 3.0999999046325684, 5.400000095367432, 2.0999999046325684]\n",
            "  True label:    Virginica\n",
            "  Pred probabilities: [0.0018518163124099374, 0.08850055187940598, 0.9096476435661316]\n",
            "  Predicted class:    Virginica\n",
            "\n",
            "Sample 3: [5.099999904632568, 3.299999952316284, 1.7000000476837158, 0.5]\n",
            "  True label:    Setosa\n",
            "  Pred probabilities: [0.9073820114135742, 0.03490573540329933, 0.05771224945783615]\n",
            "  Predicted class:    Setosa\n",
            "\n",
            "Sample 4: [6.0, 3.4000000953674316, 4.5, 1.600000023841858]\n",
            "  True label:    Versicolor\n",
            "  Pred probabilities: [0.08083181083202362, 0.35808661580085754, 0.56108158826828]\n",
            "  Predicted class:    Virginica\n",
            "\n",
            "Sample 5: [5.5, 2.5, 4.0, 1.2999999523162842]\n",
            "  True label:    Versicolor\n",
            "  Pred probabilities: [0.013793924823403358, 0.8629733920097351, 0.12323267757892609]\n",
            "  Predicted class:    Versicolor\n"
          ]
        }
      ]
    }
  ]
}