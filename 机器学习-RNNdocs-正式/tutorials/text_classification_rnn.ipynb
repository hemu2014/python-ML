{
  "cells": [
    {
      "cell_type": "markdown",
      "metadata": {
        "id": "view-in-github",
        "colab_type": "text"
      },
      "source": [
        "<a href=\"https://colab.research.google.com/github/hemu2014/python-ML/blob/main/%E6%9C%BA%E5%99%A8%E5%AD%A6%E4%B9%A0-RNNdocs-%E6%AD%A3%E5%BC%8F/tutorials/text_classification_rnn.ipynb\" target=\"_parent\"><img src=\"https://colab.research.google.com/assets/colab-badge.svg\" alt=\"Open In Colab\"/></a>"
      ]
    },
    {
      "cell_type": "markdown",
      "metadata": {
        "id": "hX4n9TsbGw-f"
      },
      "source": [
        "##### Copyright 2018 The TensorFlow Authors."
      ]
    },
    {
      "cell_type": "code",
      "execution_count": null,
      "metadata": {
        "cellView": "form",
        "id": "0nbI5DtDGw-i"
      },
      "outputs": [],
      "source": [
        "#@title Licensed under the Apache License, Version 2.0 (the \"License\");\n",
        "# you may not use this file except in compliance with the License.\n",
        "# You may obtain a copy of the License at\n",
        "#\n",
        "# https://www.apache.org/licenses/LICENSE-2.0\n",
        "#\n",
        "# Unless required by applicable law or agreed to in writing, software\n",
        "# distributed under the License is distributed on an \"AS IS\" BASIS,\n",
        "# WITHOUT WARRANTIES OR CONDITIONS OF ANY KIND, either express or implied.\n",
        "# See the License for the specific language governing permissions and\n",
        "# limitations under the License."
      ]
    },
    {
      "cell_type": "markdown",
      "metadata": {
        "id": "9TnJztDZGw-n"
      },
      "source": [
        "# Text classification with an RNN"
      ]
    },
    {
      "cell_type": "markdown",
      "metadata": {
        "id": "AfN3bMR5Gw-o"
      },
      "source": [
        "<table class=\"tfo-notebook-buttons\" align=\"left\">\n",
        "  <td>\n",
        "    <a target=\"_blank\" href=\"https://www.tensorflow.org/text/tutorials/text_classification_rnn\"><img src=\"https://www.tensorflow.org/images/tf_logo_32px.png\" />View on TensorFlow.org</a>\n",
        "  </td>\n",
        "  <td>\n",
        "    <a target=\"_blank\" href=\"https://colab.research.google.com/github/tensorflow/text/blob/master/docs/tutorials/text_classification_rnn.ipynb\"><img src=\"https://www.tensorflow.org/images/colab_logo_32px.png\" />Run in Google Colab</a>\n",
        "  </td>\n",
        "  <td>\n",
        "    <a target=\"_blank\" href=\"https://github.com/tensorflow/text/blob/master/docs/tutorials/text_classification_rnn.ipynb\"><img src=\"https://www.tensorflow.org/images/GitHub-Mark-32px.png\" />View source on GitHub</a>\n",
        "  </td>\n",
        "  <td>\n",
        "    <a href=\"https://storage.googleapis.com/tensorflow_docs/text/docs/tutorials/text_classification_rnn.ipynb\"><img src=\"https://www.tensorflow.org/images/download_logo_32px.png\" />Download notebook</a>\n",
        "  </td>\n",
        "</table>"
      ]
    },
    {
      "cell_type": "markdown",
      "metadata": {
        "id": "lUWearf0Gw-p"
      },
      "source": [
        "This text classification tutorial trains a [recurrent neural network](https://developers.google.com/machine-learning/glossary/#recurrent_neural_network) on the [IMDB large movie review dataset](http://ai.stanford.edu/~amaas/data/sentiment/) for sentiment analysis."
      ]
    },
    {
      "cell_type": "markdown",
      "metadata": {
        "id": "_2VQo4bajwUU"
      },
      "source": [
        "## Setup"
      ]
    },
    {
      "cell_type": "code",
      "execution_count": 1,
      "metadata": {
        "id": "z682XYsrjkY9"
      },
      "outputs": [],
      "source": [
        "import numpy as np\n",
        "\n",
        "import tensorflow_datasets as tfds\n",
        "import tensorflow as tf\n",
        "\n",
        "tfds.disable_progress_bar() #调用tfds.disable_progress_bar()函数来禁用TensorFlow Datasets的下载或加载数据时显示的进度条。"
      ]
    },
    {
      "cell_type": "code",
      "source": [
        "print(tf.__version__)"
      ],
      "metadata": {
        "colab": {
          "base_uri": "https://localhost:8080/"
        },
        "id": "ow4g46Dm4O4k",
        "outputId": "4e30752b-5ee3-4bee-8d75-f58ec8ae7485"
      },
      "execution_count": null,
      "outputs": [
        {
          "output_type": "stream",
          "name": "stdout",
          "text": [
            "2.18.0\n"
          ]
        }
      ]
    },
    {
      "cell_type": "markdown",
      "metadata": {
        "id": "1rXHa-w9JZhb"
      },
      "source": [
        "Import `matplotlib` and create a helper function to plot graphs:"
      ]
    },
    {
      "cell_type": "code",
      "execution_count": 2,
      "metadata": {
        "id": "Mp1Z7P9pYRSK"
      },
      "outputs": [],
      "source": [
        "import matplotlib.pyplot as plt\n",
        "\n",
        "\n",
        "def plot_graphs(history, metric):\n",
        "  plt.plot(history.history[metric])\n",
        "  plt.plot(history.history['val_'+metric], '')\n",
        "  plt.xlabel(\"Epochs\")\n",
        "  plt.ylabel(metric)\n",
        "  plt.legend([metric, 'val_'+metric])"
      ]
    },
    {
      "cell_type": "markdown",
      "source": [
        "###设置输入流水线"
      ],
      "metadata": {
        "id": "N3s69EgK61QT"
      }
    },
    {
      "cell_type": "markdown",
      "metadata": {
        "id": "pRmMubr0jrE2"
      },
      "source": [
        "## Setup input pipeline\n",
        "\n",
        "\n",
        "The IMDB large movie review dataset is a *binary classification* dataset—all the reviews have either a *positive* or *negative* sentiment.\n",
        "\n",
        "Download the dataset using [TFDS](https://www.tensorflow.org/datasets). See the [loading text tutorial](https://www.tensorflow.org/tutorials/load_data/text) for details on how to load this sort of data manually.\n"
      ]
    },
    {
      "cell_type": "code",
      "execution_count": 3,
      "metadata": {
        "id": "SHRwRoP2nVHX",
        "colab": {
          "base_uri": "https://localhost:8080/",
          "height": 128
        },
        "outputId": "23d9626e-c2ff-4ea8-af95-786a305f710c"
      },
      "outputs": [
        {
          "output_type": "stream",
          "name": "stderr",
          "text": [
            "WARNING:absl:Variant folder /root/tensorflow_datasets/imdb_reviews/plain_text/1.0.0 has no dataset_info.json\n"
          ]
        },
        {
          "output_type": "stream",
          "name": "stdout",
          "text": [
            "Downloading and preparing dataset Unknown size (download: Unknown size, generated: Unknown size, total: Unknown size) to /root/tensorflow_datasets/imdb_reviews/plain_text/1.0.0...\n",
            "Dataset imdb_reviews downloaded and prepared to /root/tensorflow_datasets/imdb_reviews/plain_text/1.0.0. Subsequent calls will reuse this data.\n"
          ]
        },
        {
          "output_type": "execute_result",
          "data": {
            "text/plain": [
              "'\\n每个样本是一个元组 (text, label)。\\ntext 是字符串类型的影评（dtype=tf.string）。\\nlabel 是整型标签（0 或 1，对应负面/正面评价，dtype=tf.int64）。\\n\\n'"
            ],
            "application/vnd.google.colaboratory.intrinsic+json": {
              "type": "string"
            }
          },
          "metadata": {},
          "execution_count": 3
        }
      ],
      "source": [
        "dataset, info = tfds.load('imdb_reviews', with_info=True,\n",
        "                          as_supervised=True)\n",
        "train_dataset, test_dataset = dataset['train'], dataset['test']\n",
        "\n",
        "train_dataset.element_spec  #查看训练集的数据结构（即每个样本的输入和标签的 Tensor 类型和形状）。\n",
        "\n",
        "'''\n",
        "每个样本是一个元组 (text, label)。\n",
        "text 是字符串类型的影评（dtype=tf.string）。\n",
        "label 是整型标签（0 或 1，对应负面/正面评价，dtype=tf.int64）。\n",
        "\n",
        "'''"
      ]
    },
    {
      "cell_type": "code",
      "source": [
        "info.features['text']"
      ],
      "metadata": {
        "colab": {
          "base_uri": "https://localhost:8080/"
        },
        "id": "9mTN-mjFEjfQ",
        "outputId": "abb52354-a06b-4206-9075-d44035f9ad94"
      },
      "execution_count": 4,
      "outputs": [
        {
          "output_type": "execute_result",
          "data": {
            "text/plain": [
              "Text(shape=(), dtype=string)"
            ]
          },
          "metadata": {},
          "execution_count": 4
        }
      ]
    },
    {
      "cell_type": "code",
      "source": [
        "print(info.description)"
      ],
      "metadata": {
        "colab": {
          "base_uri": "https://localhost:8080/"
        },
        "id": "TfU96KWK-7Yy",
        "outputId": "705ff428-7710-4316-8dec-fd8854535b25"
      },
      "execution_count": 5,
      "outputs": [
        {
          "output_type": "stream",
          "name": "stdout",
          "text": [
            "Large Movie Review Dataset. This is a dataset for binary sentiment\n",
            "classification containing substantially more data than previous benchmark\n",
            "datasets. We provide a set of 25,000 highly polar movie reviews for training,\n",
            "and 25,000 for testing. There is additional unlabeled data for use as well.\n"
          ]
        }
      ]
    },
    {
      "cell_type": "code",
      "source": [
        "print(info)"
      ],
      "metadata": {
        "colab": {
          "base_uri": "https://localhost:8080/"
        },
        "id": "ciI_MNwp-d8K",
        "outputId": "c2c40214-1628-4194-e8b1-c03b42bbbcef"
      },
      "execution_count": null,
      "outputs": [
        {
          "output_type": "stream",
          "name": "stdout",
          "text": [
            "tfds.core.DatasetInfo(\n",
            "    name='imdb_reviews',\n",
            "    full_name='imdb_reviews/plain_text/1.0.0',\n",
            "    description=\"\"\"\n",
            "    Large Movie Review Dataset. This is a dataset for binary sentiment\n",
            "    classification containing substantially more data than previous benchmark\n",
            "    datasets. We provide a set of 25,000 highly polar movie reviews for training,\n",
            "    and 25,000 for testing. There is additional unlabeled data for use as well.\n",
            "    \"\"\",\n",
            "    config_description=\"\"\"\n",
            "    Plain text\n",
            "    \"\"\",\n",
            "    homepage='http://ai.stanford.edu/~amaas/data/sentiment/',\n",
            "    data_dir='/root/tensorflow_datasets/imdb_reviews/plain_text/1.0.0',\n",
            "    file_format=tfrecord,\n",
            "    download_size=80.23 MiB,\n",
            "    dataset_size=129.83 MiB,\n",
            "    features=FeaturesDict({\n",
            "        'label': ClassLabel(shape=(), dtype=int64, num_classes=2),\n",
            "        'text': Text(shape=(), dtype=string),\n",
            "    }),\n",
            "    supervised_keys=('text', 'label'),\n",
            "    disable_shuffling=False,\n",
            "    nondeterministic_order=False,\n",
            "    splits={\n",
            "        'test': <SplitInfo num_examples=25000, num_shards=1>,\n",
            "        'train': <SplitInfo num_examples=25000, num_shards=1>,\n",
            "        'unsupervised': <SplitInfo num_examples=50000, num_shards=1>,\n",
            "    },\n",
            "    citation=\"\"\"@InProceedings{maas-EtAl:2011:ACL-HLT2011,\n",
            "      author    = {Maas, Andrew L.  and  Daly, Raymond E.  and  Pham, Peter T.  and  Huang, Dan  and  Ng, Andrew Y.  and  Potts, Christopher},\n",
            "      title     = {Learning Word Vectors for Sentiment Analysis},\n",
            "      booktitle = {Proceedings of the 49th Annual Meeting of the Association for Computational Linguistics: Human Language Technologies},\n",
            "      month     = {June},\n",
            "      year      = {2011},\n",
            "      address   = {Portland, Oregon, USA},\n",
            "      publisher = {Association for Computational Linguistics},\n",
            "      pages     = {142--150},\n",
            "      url       = {http://www.aclweb.org/anthology/P11-1015}\n",
            "    }\"\"\",\n",
            ")\n"
          ]
        }
      ]
    },
    {
      "cell_type": "code",
      "source": [
        "print(type(train_dataset))"
      ],
      "metadata": {
        "colab": {
          "base_uri": "https://localhost:8080/"
        },
        "id": "X7JBNpKe-QBC",
        "outputId": "b0f3bc24-c7b2-49c3-cc5f-3bcfbccb837f"
      },
      "execution_count": null,
      "outputs": [
        {
          "output_type": "stream",
          "name": "stdout",
          "text": [
            "<class 'tensorflow.python.data.ops.prefetch_op._PrefetchDataset'>\n"
          ]
        }
      ]
    },
    {
      "cell_type": "markdown",
      "metadata": {
        "id": "nWA4c2ir7g6p"
      },
      "source": [
        "Initially this returns a dataset of (text, label pairs):\n",
        "\n",
        "take(1) 的含义\n",
        "作用：从数据集中提取前1个元素（注意是元素，不是批次）。\n",
        "\n",
        "关键点：\n",
        "\n",
        "* take(N) 是按样本数量（而非批次数量）操作的。\n",
        "\n",
        "* 如果数据集是未分批次的（即每个元素是单个样本），take(1) 就返回1条数据。\n",
        "\n",
        "* 如果数据集已分批次（如 batch(32)），take(1) 会返回1个批次（含32条数据）。"
      ]
    },
    {
      "cell_type": "code",
      "execution_count": 6,
      "metadata": {
        "id": "vd4_BGKyurao",
        "colab": {
          "base_uri": "https://localhost:8080/"
        },
        "outputId": "a5642a47-5b52-4a27-a720-d949b0f53f1d"
      },
      "outputs": [
        {
          "output_type": "stream",
          "name": "stdout",
          "text": [
            "text:  b\"This was an absolutely terrible movie. Don't be lured in by Christopher Walken or Michael Ironside. Both are great actors, but this must simply be their worst role in history. Even their great acting could not redeem this movie's ridiculous storyline. This movie is an early nineties US propaganda piece. The most pathetic scenes were those when the Columbian rebels were making their cases for revolutions. Maria Conchita Alonso appeared phony, and her pseudo-love affair with Walken was nothing but a pathetic emotional plug in a movie that was devoid of any real meaning. I am disappointed that there are movies like this, ruining actor's like Christopher Walken's good name. I could barely sit through it.\"\n",
            "text:  This was an absolutely terrible movie. Don't be lured in by Christopher Walken or Michael Ironside. Both are great actors, but this must simply be their worst role in history. Even their great acting could not redeem this movie's ridiculous storyline. This movie is an early nineties US propaganda piece. The most pathetic scenes were those when the Columbian rebels were making their cases for revolutions. Maria Conchita Alonso appeared phony, and her pseudo-love affair with Walken was nothing but a pathetic emotional plug in a movie that was devoid of any real meaning. I am disappointed that there are movies like this, ruining actor's like Christopher Walken's good name. I could barely sit through it.\n",
            "label:  0\n",
            "text:  b'I have been known to fall asleep during films, but this is usually due to a combination of things including, really tired, being warm and comfortable on the sette and having just eaten a lot. However on this occasion I fell asleep because the film was rubbish. The plot development was constant. Constantly slow and boring. Things seemed to happen, but with no explanation of what was causing them or why. I admit, I may have missed part of the film, but i watched the majority of it and everything just seemed to happen of its own accord without any real concern for anything else. I cant recommend this film at all.'\n",
            "text:  I have been known to fall asleep during films, but this is usually due to a combination of things including, really tired, being warm and comfortable on the sette and having just eaten a lot. However on this occasion I fell asleep because the film was rubbish. The plot development was constant. Constantly slow and boring. Things seemed to happen, but with no explanation of what was causing them or why. I admit, I may have missed part of the film, but i watched the majority of it and everything just seemed to happen of its own accord without any real concern for anything else. I cant recommend this film at all.\n",
            "label:  0\n",
            "text:  b'Mann photographs the Alberta Rocky Mountains in a superb fashion, and Jimmy Stewart and Walter Brennan give enjoyable performances as they always seem to do. <br /><br />But come on Hollywood - a Mountie telling the people of Dawson City, Yukon to elect themselves a marshal (yes a marshal!) and to enforce the law themselves, then gunfighters battling it out on the streets for control of the town? <br /><br />Nothing even remotely resembling that happened on the Canadian side of the border during the Klondike gold rush. Mr. Mann and company appear to have mistaken Dawson City for Deadwood, the Canadian North for the American Wild West.<br /><br />Canadian viewers be prepared for a Reefer Madness type of enjoyable howl with this ludicrous plot, or, to shake your head in disgust.'\n",
            "text:  Mann photographs the Alberta Rocky Mountains in a superb fashion, and Jimmy Stewart and Walter Brennan give enjoyable performances as they always seem to do. <br /><br />But come on Hollywood - a Mountie telling the people of Dawson City, Yukon to elect themselves a marshal (yes a marshal!) and to enforce the law themselves, then gunfighters battling it out on the streets for control of the town? <br /><br />Nothing even remotely resembling that happened on the Canadian side of the border during the Klondike gold rush. Mr. Mann and company appear to have mistaken Dawson City for Deadwood, the Canadian North for the American Wild West.<br /><br />Canadian viewers be prepared for a Reefer Madness type of enjoyable howl with this ludicrous plot, or, to shake your head in disgust.\n",
            "label:  0\n"
          ]
        }
      ],
      "source": [
        "for example, label in train_dataset.take(3):\n",
        "  print('text: ', example.numpy()) #文本会以字节形式（b'...'）显示。\n",
        "  print('text: ', example.numpy().decode('utf-8')) #如需显示普通字符串\n",
        "  print('label: ', label.numpy())"
      ]
    },
    {
      "cell_type": "markdown",
      "metadata": {
        "id": "z2qVJzcEluH_"
      },
      "source": [
        "Next shuffle the data for training and create batches of these `(text, label)` pairs:"
      ]
    },
    {
      "cell_type": "code",
      "execution_count": 7,
      "metadata": {
        "id": "dDsCaZCDYZgm"
      },
      "outputs": [],
      "source": [
        "BUFFER_SIZE = 10000\n",
        "BATCH_SIZE = 64"
      ]
    },
    {
      "cell_type": "code",
      "execution_count": 8,
      "metadata": {
        "id": "VznrltNOnUc5",
        "colab": {
          "base_uri": "https://localhost:8080/",
          "height": 54
        },
        "outputId": "0aa3e34a-3163-46a3-a120-c85c18cc25b4"
      },
      "outputs": [
        {
          "output_type": "execute_result",
          "data": {
            "text/plain": [
              "'\\n.prefetch(tf.data.AUTOTUNE)\\n作用：异步预取数据，即在模型训练当前批次时，后台提前加载下一批次数据。\\n参数：tf.data.AUTOTUNE：由TensorFlow自动选择最优的预取缓冲区大小。\\n为什么需要：避免数据加载成为训练瓶颈（即GPU等模型计算设备无需等待数据加载）。\\n'"
            ],
            "application/vnd.google.colaboratory.intrinsic+json": {
              "type": "string"
            }
          },
          "metadata": {},
          "execution_count": 8
        }
      ],
      "source": [
        "train_dataset = train_dataset.shuffle(BUFFER_SIZE).batch(BATCH_SIZE).prefetch(tf.data.AUTOTUNE)\n",
        "test_dataset = test_dataset.batch(BATCH_SIZE).prefetch(tf.data.AUTOTUNE)\n",
        "'''\n",
        ".prefetch(tf.data.AUTOTUNE)\n",
        "作用：异步预取数据，即在模型训练当前批次时，后台提前加载下一批次数据。\n",
        "参数：tf.data.AUTOTUNE：由TensorFlow自动选择最优的预取缓冲区大小。\n",
        "为什么需要：避免数据加载成为训练瓶颈（即GPU等模型计算设备无需等待数据加载）。\n",
        "'''"
      ]
    },
    {
      "cell_type": "markdown",
      "source": [
        "### 取前三个数据，**已经分批次了**"
      ],
      "metadata": {
        "id": "HabIjzimB_s5"
      }
    },
    {
      "cell_type": "code",
      "source": [
        "for example, label in train_dataset.take(1):\n",
        "  print(len(label.numpy()))\n",
        "  for i in range(3):\n",
        "    print('text: ', example.numpy()[i]) #文本会以字节形式（b'...'）显示。\n",
        "    print('text: ', example.numpy()[i].decode('utf-8')) #如需显示普通字符串\n",
        "    print('label: ', label.numpy()[i])"
      ],
      "metadata": {
        "colab": {
          "base_uri": "https://localhost:8080/"
        },
        "id": "fKYq6ZJCCJBp",
        "outputId": "1984ddc1-e86e-41d2-85bb-55fb0a3ed278"
      },
      "execution_count": 14,
      "outputs": [
        {
          "output_type": "stream",
          "name": "stdout",
          "text": [
            "64\n",
            "text:  b'This is unlike any other movie, the closest thing I can compare it to is a Woody Allen film... But where as Woody Allen is constantly fathoming human foibles Bret Carr appears to be trying to figure out a way to get to grips with that one crippling insecurity that tends to define us for better or worse. In the Case of Lou, it is the root cause of his stuttering, which can be traced back to a singular child hood trauma that is revealed through flash backs.<br /><br />There are so many strangely neurotic people in the world and I believe they all deserve a chance for redemption, although diversity of human character is after all what makes the world such an intriguing place, so maybe we shouldn\\'t fix our neurosis anymore than we should fix our noses or Breasts.<br /><br />This is an indie film shot on a long shoestring, but the production values are tremendous as is the scope of the film. I feel like its a quirky Gem for the self-help market. I really look forward to seeing what this filmmaker does next, i could imagine a career along the lines of Woody Allen or Albert Brooks, although usually when a guy like this breaks through, he goes off and makes \" X MEN\" and his humble quirky origins are soon forgotten or are they.... X Men is aout a bunch of freaks if i remember correctly :)'\n",
            "text:  This is unlike any other movie, the closest thing I can compare it to is a Woody Allen film... But where as Woody Allen is constantly fathoming human foibles Bret Carr appears to be trying to figure out a way to get to grips with that one crippling insecurity that tends to define us for better or worse. In the Case of Lou, it is the root cause of his stuttering, which can be traced back to a singular child hood trauma that is revealed through flash backs.<br /><br />There are so many strangely neurotic people in the world and I believe they all deserve a chance for redemption, although diversity of human character is after all what makes the world such an intriguing place, so maybe we shouldn't fix our neurosis anymore than we should fix our noses or Breasts.<br /><br />This is an indie film shot on a long shoestring, but the production values are tremendous as is the scope of the film. I feel like its a quirky Gem for the self-help market. I really look forward to seeing what this filmmaker does next, i could imagine a career along the lines of Woody Allen or Albert Brooks, although usually when a guy like this breaks through, he goes off and makes \" X MEN\" and his humble quirky origins are soon forgotten or are they.... X Men is aout a bunch of freaks if i remember correctly :)\n",
            "label:  1\n",
            "text:  b\"Pecker is another mainstream film by John Waters done on a smaller than Serial Mom. The title character of Pecker has a hobby of taking pictures of anything he sees. It doesn't matter if it's dirty or shocking when he takes pictures. He soon uses the pictures he taken and puts them on display at his work. Pecker live in a semi-normal middle-class family. His dad works at a drinking bar with a claw machine, but doesn't make enough money with a lesbian stripper bar across the street. His mom runs a thrift shop and loves to dress-up poor people. His older sister, Tina, works at a gay bar where her specialty is trade. His younger, Little Chrissy, has a habit of eating sugar, sugar, and nothing but sugary food. His grandmother, Memama, has a small statue of the Virgin Mary and plays ventriloquist with it. He also has 2 friends. On of his friends, Matt is a chronic shoplifter and his girlfriend, Shelley, runs a laundry mat as if she was a dictator. Soon, a tourist from New York buys his pictures and displays them at an art gallery. With the picture comes fame, but the pictures expose the unusual life style of his friends and family's simple life. For an R-rated film, Pecker is sure tamer than most of Waters previous R-rated films and even Pink Flamingos. Another 10 out of 10!\"\n",
            "text:  Pecker is another mainstream film by John Waters done on a smaller than Serial Mom. The title character of Pecker has a hobby of taking pictures of anything he sees. It doesn't matter if it's dirty or shocking when he takes pictures. He soon uses the pictures he taken and puts them on display at his work. Pecker live in a semi-normal middle-class family. His dad works at a drinking bar with a claw machine, but doesn't make enough money with a lesbian stripper bar across the street. His mom runs a thrift shop and loves to dress-up poor people. His older sister, Tina, works at a gay bar where her specialty is trade. His younger, Little Chrissy, has a habit of eating sugar, sugar, and nothing but sugary food. His grandmother, Memama, has a small statue of the Virgin Mary and plays ventriloquist with it. He also has 2 friends. On of his friends, Matt is a chronic shoplifter and his girlfriend, Shelley, runs a laundry mat as if she was a dictator. Soon, a tourist from New York buys his pictures and displays them at an art gallery. With the picture comes fame, but the pictures expose the unusual life style of his friends and family's simple life. For an R-rated film, Pecker is sure tamer than most of Waters previous R-rated films and even Pink Flamingos. Another 10 out of 10!\n",
            "label:  1\n",
            "text:  b'A vampire\\'s\\'s henchman wants to call her after falling in love with a five-dollar hooker in this extremely low-budget horror-comedy. I can\\'t explain all the positive comments on this movie. I\\'ll chalk it up to mass hallucination, but it\\'s disconcerting none the less. The one redeeming factor (and this is me being extremely generous here) might be the Grandfather who\\'s the only semi-likable character in this whole mess. Don\\'t waste your money, or time. In fact here\\'s a word of advice, If Troma puts it out on DVD, but does NOT make it themselves, in all likelihood it\\'s crap.<br /><br />Troma DVD Extras:Commentary with Omar and Kirk; second commentary with cast and crew deleted scenes; bloopers; troma interactivity; radiation march; Clip from \"Terror Firmer\"; Theatrical trailer ;Trailers for \"the Rowdy Girls\", \"Teenage Catgirls in Heat\", \"Cannible: The Musical\", and \"Toxic Avenger 4\" <br /><br />My Grade: D'\n",
            "text:  A vampire's's henchman wants to call her after falling in love with a five-dollar hooker in this extremely low-budget horror-comedy. I can't explain all the positive comments on this movie. I'll chalk it up to mass hallucination, but it's disconcerting none the less. The one redeeming factor (and this is me being extremely generous here) might be the Grandfather who's the only semi-likable character in this whole mess. Don't waste your money, or time. In fact here's a word of advice, If Troma puts it out on DVD, but does NOT make it themselves, in all likelihood it's crap.<br /><br />Troma DVD Extras:Commentary with Omar and Kirk; second commentary with cast and crew deleted scenes; bloopers; troma interactivity; radiation march; Clip from \"Terror Firmer\"; Theatrical trailer ;Trailers for \"the Rowdy Girls\", \"Teenage Catgirls in Heat\", \"Cannible: The Musical\", and \"Toxic Avenger 4\" <br /><br />My Grade: D\n",
            "label:  0\n"
          ]
        }
      ]
    },
    {
      "cell_type": "markdown",
      "source": [
        "### 取的时候应该是随机的，因为清洗，shuffle"
      ],
      "metadata": {
        "id": "Lm0YklRJDHQI"
      }
    },
    {
      "cell_type": "code",
      "execution_count": null,
      "metadata": {
        "id": "jqkvdcFv41wC",
        "colab": {
          "base_uri": "https://localhost:8080/"
        },
        "outputId": "2e0572a5-56fe-4395-9742-cc470f5e8222"
      },
      "outputs": [
        {
          "output_type": "stream",
          "name": "stdout",
          "text": [
            "texts:  [b'I wasn\\'t as \"lucky\" as some of the others commenting on this film: i have never seen anything else out of the...shall we say... \"fecund\" mind of Sarno. I agree with many: some of the actresses who spend a lot of time topless and (go-go) dancing are not really that attractive. I kinda liked Fraulein Crank(?)...she was so homely , she was cute! The acting was pretty stale, also, though delivering lines in a second language might have accounted for a lot of that problem. Trying to follow the plot was a major chore: was there one, really? I do heartily agree with one other comment: for a vampire movie, there\\'s not much blood. Yep, if you want GOOD bloodsucking flicks, check out such Hammer classics as \"Horror of Dracula\" and (my personal favourite) \"Brides of Dracula\".<br /><br />The most (unintentionally) humorous part is where the lady doctor gets her clothes torn off by a cloud of bats...which you never SEE!...the bats, I mean.<br /><br />Okay as a time-waster if you happen to catch it on cable here in the Great White North but, for heaven\\'s sake, don\\'t rent it!'\n",
            " b\"I have seen a lot of Saura films and always found amazing the way he assembles music, dance, drama and great cinema in his movies. Ib\\xc3\\xa9ria shows an even better Saura, dealing with multimedia concepts and a more contemporary concept of dance and music. Another thing that called my attention is the fact that, in this movie, dancers and musicians, dance and music, are equally important: the camera shows various aspects of music interpretation, examining not only technical issues but also the emotional experience of playing. The interest of Saura on the bridge between classical and contemporary music and dance is one more ingredient in turning this movie maybe the most aesthetically exciting among his other works. That's why I recommend it strongly to those who love good cinema, good music, good dance, great art.\"\n",
            " b'While many unfortunately passed on, the ballroom scene is still very much alive and carrying on their legacy. Some are still very much alive and quite well, Octavia is more radiant and beautiful than ever, Willi Ninja is very accomplished and gives a great deal of support to the gay community as a whole, Pepper Labeija just passed on last year of natural cause, may she rest in peace. After Anji\\'s passing Carmen became the mother of the house of Xtravaganza (she was in the beach scene) and she is looking more and more lovely as well. Some balls have categories dedicated to those who have passed, may they all rest in peace. There is currently another project underway known as \"How Do I Look?\", you can check out the website at www.howdoilooknyc.org.']\n",
            "<class 'numpy.ndarray'>\n",
            "labels:  [0 1 1]\n"
          ]
        }
      ],
      "source": [
        "for example, label in train_dataset.take(1):\n",
        "  print('texts: ', example.numpy()[:3])\n",
        "  print(type(example.numpy()[:3]))\n",
        "  print('labels: ', label.numpy()[:3])"
      ]
    },
    {
      "cell_type": "code",
      "source": [
        "#import tensorflow as tf\n",
        "\n",
        "# 模拟数据集\n",
        "data = tf.data.Dataset.from_tensor_slices(list(\"ABCDEFGHIJ\"))\n",
        "# 设置小缓冲区观察行为\n",
        "shuffled = data.shuffle(buffer_size=3).batch(3)\n",
        "\n",
        "# 查看输出顺序\n",
        "for item in shuffled.take(4): # 取10次观察重复情况\n",
        "\n",
        "  print(item.numpy())"
      ],
      "metadata": {
        "colab": {
          "base_uri": "https://localhost:8080/"
        },
        "id": "vlaBiQ44GG64",
        "outputId": "5164d5c3-acb6-4e62-8bc0-ec5bd62158e5"
      },
      "execution_count": null,
      "outputs": [
        {
          "output_type": "stream",
          "name": "stdout",
          "text": [
            "[b'A' b'B' b'D']\n",
            "[b'E' b'G' b'H']\n",
            "[b'F' b'J' b'C']\n",
            "[b'I']\n"
          ]
        }
      ]
    },
    {
      "cell_type": "markdown",
      "metadata": {
        "id": "s5eWCo88voPY"
      },
      "source": [
        "## Create the text encoder"
      ]
    },
    {
      "cell_type": "markdown",
      "metadata": {
        "id": "TFevcItw15P_"
      },
      "source": [
        "The raw text loaded by `tfds` needs to be processed before it can be used in a model. The simplest way to process text for training is using the `TextVectorization` layer. This layer has many capabilities, but this tutorial sticks to the default behavior.\n",
        "\n",
        "Create the layer, and pass the dataset's text to the layer's `.adapt` method:"
      ]
    },
    {
      "cell_type": "code",
      "execution_count": 9,
      "metadata": {
        "id": "uC25Lu1Yvuqy"
      },
      "outputs": [],
      "source": [
        "VOCAB_SIZE = 1000\n",
        "encoder = tf.keras.layers.TextVectorization(\n",
        "    max_tokens=VOCAB_SIZE)\n",
        "#从训练集中提取文本部分（丢弃标签 label），生成一个仅包含文本的新数据集。\n",
        "encoder.adapt(train_dataset.map(lambda text, label: text)) #遍历所有文本，统计词频并构建词汇表（选择前 VOCAB_SIZE 个高频词）。\n",
        "# 测试集/验证集不需要再次 adapt()（应使用相同的词汇表）。"
      ]
    },
    {
      "cell_type": "markdown",
      "metadata": {
        "id": "IuQzVBbe3Ldu"
      },
      "source": [
        "The `.adapt` method sets the layer's vocabulary. Here are the first 20 tokens. After the padding and unknown tokens they're sorted by frequency:"
      ]
    },
    {
      "cell_type": "code",
      "execution_count": 10,
      "metadata": {
        "id": "tBoyjjWg0Ac9",
        "colab": {
          "base_uri": "https://localhost:8080/"
        },
        "outputId": "a0d12934-a03a-4251-d581-763772bf4074"
      },
      "outputs": [
        {
          "output_type": "stream",
          "name": "stdout",
          "text": [
            "['' '[UNK]' 'the' 'and' 'a' 'of' 'to' 'is' 'in' 'it' 'i' 'this' 'that'\n",
            " 'br' 'was' 'as' 'for' 'with' 'movie' 'but']\n",
            "[False False False False False False False False False False False False\n",
            " False False False False False False  True False]\n",
            "(array([18]),)\n",
            "18\n",
            "Index of '['movie']': 18\n"
          ]
        }
      ],
      "source": [
        "vocab = np.array(encoder.get_vocabulary()) # 获取的词汇表转为numpy数组\n",
        "print(vocab[:20])\n",
        "vocab_test = vocab[:20]\n",
        "# 检查特定词的索引\n",
        "word = ['movie']\n",
        "print(vocab_test == word) #将词汇表中的每个元素与 word 比较，返回一个布尔数组（True/False）。\n",
        "# 类似(array([4]),)  # 注意是元组，包含一个NumPy数组 [4]\n",
        "print(np.where(vocab == word))# 返回满足条件（True）的元素的 索引位置。返回一个元组（即使是一维数组，也会包装成元组）。\n",
        "# 第一个0是取元组的第一个元素得到一个数组， 第二个0访问数组的索引为0的数据\n",
        "print(np.where(vocab == word)[0][0])\n",
        "if word in vocab:\n",
        "    print(f\"Index of '{word}':\", np.where(vocab == word)[0][0])\n",
        "else:\n",
        "    print(f\"'{word}' is out of vocabulary!\")"
      ]
    },
    {
      "cell_type": "markdown",
      "source": [
        "###查找多个单词索引"
      ],
      "metadata": {
        "id": "LKJIF9tXQfp-"
      }
    },
    {
      "source": [
        "vocab = np.array(encoder.get_vocabulary()) # 获取的词汇表转为numpy数组\n",
        "print(vocab[:20])\n",
        "vocab_test = vocab[:20]\n",
        "# 检查特定词的索引\n",
        "word = ['movie', 'but']\n",
        "# Use np.isin() to check if elements of 'word' are in 'vocab_test'\n",
        "print(np.isin(vocab_test, word)) # This will return a boolean array\n",
        "# Use np.where() with np.isin() to find the indices\n",
        "print(np.where(np.isin(vocab, word))) # This will return the indices of 'word' elements in 'vocab'\n",
        "# Loop through the words and check if they're in the vocabulary\n",
        "for w in word:\n",
        "    if w in vocab:\n",
        "        print(f\"Index of '{w}':\", np.where(vocab == w)[0][0])\n",
        "    else:\n",
        "        print(f\"'{w}' is out of vocabulary!\")"
      ],
      "cell_type": "code",
      "metadata": {
        "colab": {
          "base_uri": "https://localhost:8080/"
        },
        "id": "fkmn7DpZPjN-",
        "outputId": "93730df0-3ee8-4b1c-c088-fb9a618987ea"
      },
      "execution_count": null,
      "outputs": [
        {
          "output_type": "stream",
          "name": "stdout",
          "text": [
            "['' '[UNK]' 'the' 'and' 'a' 'of' 'to' 'is' 'in' 'it' 'i' 'this' 'that'\n",
            " 'br' 'was' 'as' 'for' 'with' 'movie' 'but']\n",
            "[False False False False False False False False False False False False\n",
            " False False False False False False  True  True]\n",
            "(array([18, 19]),)\n",
            "Index of 'movie': 18\n",
            "Index of 'but': 19\n"
          ]
        }
      ]
    },
    {
      "cell_type": "markdown",
      "source": [
        "###构建字典查询"
      ],
      "metadata": {
        "id": "ehm3TD-rRQzk"
      }
    },
    {
      "cell_type": "code",
      "source": [
        "# 假设 vocab 是 NumPy 数组\n",
        "vocab_3 = np.array(['', '[UNK]', 'the', 'and', 'movie', 'this'])\n",
        "words = [\"movie\", \"the\", \"unknown_word\", \"this\"]\n",
        "\n",
        "# 构建字典\n",
        "vocab_dict = {word: idx for idx, word in enumerate(vocab_3)}\n",
        "print(vocab_dict)\n",
        "# 批量查找\n",
        "indices = [vocab_dict.get(word, 1) for word in words]\n",
        "print(\"单词索引:\", indices)  # 输出: [4, 2, 1, 5]\n",
        "\n",
        "# 反向查询（索引→单词）\n",
        "words_found = vocab_3[indices] # 通过索引列表，去反向访问单词\n",
        "print(\"对应单词:\", words_found)  # 输出: ['movie' 'the' '[UNK]' 'this']"
      ],
      "metadata": {
        "colab": {
          "base_uri": "https://localhost:8080/"
        },
        "id": "1zgoU7knRQTF",
        "outputId": "da5163f3-c125-481b-c8f3-7b3eef6d26cf"
      },
      "execution_count": null,
      "outputs": [
        {
          "output_type": "stream",
          "name": "stdout",
          "text": [
            "{np.str_(''): 0, np.str_('[UNK]'): 1, np.str_('the'): 2, np.str_('and'): 3, np.str_('movie'): 4, np.str_('this'): 5}\n",
            "单词索引: [4, 2, 1, 5]\n",
            "对应单词: ['movie' 'the' '[UNK]' 'this']\n"
          ]
        }
      ]
    },
    {
      "cell_type": "markdown",
      "metadata": {
        "id": "mjId5pua3jHQ"
      },
      "source": [
        "Once the vocabulary is set, the layer can encode text into indices. The tensors of indices are 0-padded to the longest sequence in the batch (unless you set a fixed `output_sequence_length`):"
      ]
    },
    {
      "cell_type": "markdown",
      "source": [
        "####encoder(example) 的运作\n",
        "encoder(example)\n",
        "作用：调用之前适配（adapt）过的 TextVectorization 层，将文本转换为 词索引序列。\n",
        "\n",
        "内部流程：\n",
        "\n",
        "* 标准化文本：自动转为小写、去除标点（根据 encoder 的配置）。\n",
        "\n",
        "* 分词：按空格拆分成单词列表（如 [\"i\", \"love\", \"this\", \"movie\"]）。\n",
        "\n",
        "* 词到索引映射：根据词汇表将每个词转换为对应的整数索引。\n",
        "\n",
        "* 若词在词汇表中 → 返回索引（如 \"movie\" → 4）。\n",
        "\n",
        "* 若词不在词汇表中 → 返回 [UNK] 的索引（默认是 1）。\n",
        "\n",
        "输出格式：返回一个 tf.Tensor，形状为 (序列长度,)，例如：\n",
        "\n",
        "* tf.Tensor([10, 25, 3, 4], shape=(4,), dtype=int64)  # 假设的映射结果"
      ],
      "metadata": {
        "id": "xItLHJxPX0Hc"
      }
    },
    {
      "cell_type": "code",
      "execution_count": 16,
      "metadata": {
        "id": "RGc7C9WiwRWs",
        "colab": {
          "base_uri": "https://localhost:8080/"
        },
        "outputId": "02bca882-4ff6-4dbe-ab30-470738e0c1d9"
      },
      "outputs": [
        {
          "output_type": "stream",
          "name": "stdout",
          "text": [
            "(64, 987)\n",
            "(3, 987)\n",
            "(3, 987)\n",
            "64 <class 'tensorflow.python.framework.ops.EagerTensor'>\n"
          ]
        },
        {
          "output_type": "execute_result",
          "data": {
            "text/plain": [
              "array([[ 11,   7, 994, ...,   0,   0,   0],\n",
              "       [  1,   7, 154, ...,   0,   0,   0],\n",
              "       [  4,   1,   1, ...,   0,   0,   0]])"
            ]
          },
          "metadata": {},
          "execution_count": 16
        }
      ],
      "source": [
        "encoded_example = encoder(example)[:3].numpy()\n",
        "print(encoder(example).shape)\n",
        "print(encoder(example)[:3].shape)\n",
        "print(encoded_example.shape)\n",
        "print(len(example), type(example))\n",
        "#print(len(encoded_example[0]),encoded_example[0])\n",
        "encoded_example"
      ]
    },
    {
      "cell_type": "markdown",
      "metadata": {
        "id": "F5cjz0bS39IN"
      },
      "source": [
        "With the default settings, the process is not completely reversible. There are three main reasons for that:\n",
        "\n",
        "1. The default value for `preprocessing.TextVectorization`'s `standardize` argument is `\"lower_and_strip_punctuation\"`.\n",
        "2. The limited vocabulary size and lack of character-based fallback results in some unknown tokens."
      ]
    },
    {
      "cell_type": "code",
      "source": [
        "encoder(example)[0][0]"
      ],
      "metadata": {
        "colab": {
          "base_uri": "https://localhost:8080/"
        },
        "id": "trmt4PY2ZRCj",
        "outputId": "699c7f79-ed8f-4028-faf1-fbf83c7af7d0"
      },
      "execution_count": 17,
      "outputs": [
        {
          "output_type": "execute_result",
          "data": {
            "text/plain": [
              "<tf.Tensor: shape=(), dtype=int64, numpy=11>"
            ]
          },
          "metadata": {},
          "execution_count": 17
        }
      ]
    },
    {
      "cell_type": "code",
      "source": [
        "example[0].numpy()[2]"
      ],
      "metadata": {
        "colab": {
          "base_uri": "https://localhost:8080/"
        },
        "id": "u0YXryepZDiT",
        "outputId": "d7f697f0-eacd-4c29-aefe-5c4cd4cc8dbf"
      },
      "execution_count": 20,
      "outputs": [
        {
          "output_type": "execute_result",
          "data": {
            "text/plain": [
              "105"
            ]
          },
          "metadata": {},
          "execution_count": 20
        }
      ]
    },
    {
      "cell_type": "code",
      "source": [
        "vocab[encoded_example[0][:10]] # 前10个字符"
      ],
      "metadata": {
        "colab": {
          "base_uri": "https://localhost:8080/"
        },
        "id": "4Qutdt7OZ6lE",
        "outputId": "b1d6b8ce-b06e-48ff-ab74-e2205e17c776"
      },
      "execution_count": null,
      "outputs": [
        {
          "output_type": "execute_result",
          "data": {
            "text/plain": [
              "array(['i', '[UNK]', 'for', 'this', 'movie', 'for', 'years', 'apparently',\n",
              "       'it', '[UNK]'], dtype='<U14')"
            ]
          },
          "metadata": {},
          "execution_count": 80
        }
      ]
    },
    {
      "cell_type": "code",
      "source": [
        "print(type(vocab))"
      ],
      "metadata": {
        "colab": {
          "base_uri": "https://localhost:8080/"
        },
        "id": "oINjRmEVabZj",
        "outputId": "fc7e1d20-f9bb-4620-89d7-d02a36ba17e2"
      },
      "execution_count": null,
      "outputs": [
        {
          "output_type": "stream",
          "name": "stdout",
          "text": [
            "<class 'numpy.ndarray'>\n"
          ]
        }
      ]
    },
    {
      "cell_type": "code",
      "execution_count": null,
      "metadata": {
        "id": "N_tD0QY5wXaK",
        "colab": {
          "base_uri": "https://localhost:8080/"
        },
        "outputId": "b8e749cf-4233-4ad5-e609-db3160a17718"
      },
      "outputs": [
        {
          "output_type": "stream",
          "name": "stdout",
          "text": [
            "Original:  b\"I searched for this movie for years, apparently it ain't available here in the States so bought me a copy off Ebay.<br /><br />Four young hunters and three of their girlfriends venture into the woods searching for a bear that apparently has killed several campers. What they find is an ex-Vietnam vet gone crazy (he kills some of his victims using a glove with long metal finger nails a la Freddy Krueger). As soon as the night falls, one of the girls goes for a walk after a brief argument with her boyfriend, she gets killed. After one of the group finds her body, they all hide in their tents waiting for daylight. Once the sun comes up, all of them try and make it out, but fall victim one by one.<br /><br />Seven bodies, not a lot of gore, but a couple of good murders, especially the girls'deaths. The guys get killed in somewhat bloodless ways (blown up in car, shot to death, knife through head). <br /><br />Overall, INFERNAL TRAP is a nice slasher film from the late 80's. Nothing new, just well acted, fast paced and some pretty ladies. 10 out of 10.\"\n",
            "Round-trip:  i [UNK] for this movie for years apparently it [UNK] [UNK] here in the [UNK] so [UNK] me a [UNK] off [UNK] br four young [UNK] and three of their [UNK] [UNK] into the [UNK] [UNK] for a [UNK] that apparently has killed several [UNK] what they find is an [UNK] [UNK] gone crazy he [UNK] some of his [UNK] using a [UNK] with long [UNK] [UNK] [UNK] a la [UNK] [UNK] as soon as the night falls one of the girls goes for a [UNK] after a [UNK] [UNK] with her [UNK] she gets killed after one of the group finds her body they all [UNK] in their [UNK] [UNK] for [UNK] once the [UNK] comes up all of them try and make it out but fall [UNK] one by [UNK] br [UNK] [UNK] not a lot of gore but a couple of good [UNK] especially the [UNK] the guys get killed in somewhat [UNK] ways [UNK] up in car shot to death [UNK] through head br br overall [UNK] [UNK] is a nice [UNK] film from the late 80s nothing new just well [UNK] fast [UNK] and some pretty [UNK] 10 out of 10                                                                                                                                                                                                                                                                                                                                                                                                                                                                                              \n",
            "\n",
            "Original:  b\"This movie is not based on the bible. It completely leaves Christ out of the movie. They do not show the rapture or the second coming of Christ. Let alone talk about it. It does not quote from scriptures. The end times are called the great tribulation. The movie does not even show bad times. The seven bowls, seven viles and seven trumpets of judgements are boiled down to a 15 second news cast of the sea changing it's structure. The anti-Christ was killed 3 1/2 years into the tribulation and that is how the movie ended. The only part they got correct was there was two prophets. The did not use there names of course because that would be too close to the truth of scriptures. The worst part of it was I really wanted it to be a good movie. I wanted to take unsaved people to it. I feel that the movie is evil. It is a counterfeit just like everything the devil does. I just hope it does not take away from the upcoming movie based on the left behind books.<br /><br />The second problem with the movie is it was just bad. Bad acting, bad special effects, bad plot and poor character development. I have seen better episodes of Miami vice.\"\n",
            "Round-trip:  this movie is not based on the [UNK] it completely leaves [UNK] out of the movie they do not show the [UNK] or the second coming of [UNK] let alone talk about it it does not [UNK] from [UNK] the end times are called the great [UNK] the movie does not even show bad times the [UNK] [UNK] [UNK] [UNK] and [UNK] [UNK] of [UNK] are [UNK] down to a [UNK] second [UNK] cast of the [UNK] [UNK] its [UNK] the [UNK] was killed 3 [UNK] years into the [UNK] and that is how the movie [UNK] the only part they got [UNK] was there was two [UNK] the did not use there [UNK] of course because that would be too close to the truth of [UNK] the worst part of it was i really wanted it to be a good movie i wanted to take [UNK] people to it i feel that the movie is evil it is a [UNK] just like everything the [UNK] does i just hope it does not take away from the [UNK] movie based on the left behind [UNK] br the second problem with the movie is it was just bad bad acting bad special effects bad plot and poor character development i have seen better episodes of [UNK] [UNK]                                                                                                                                                                                                                                                                                                                                                                                                                                                                          \n",
            "\n",
            "Original:  b'In 1978 a phenomenon began. The release of John Carpenter\\'s \"Halloween\" got people queueing around the block to witness the evil that is Michael Meyers. The critics loved it, the world loved it, it was imitated, and has gone down as one of the greatest movies in cinematic history.<br /><br />plot: 15 years after a murder took place, four friends (all females) are babysitting(and having it on with their boyfriends) on Halloween night. After escaping from a hospital the night before, Michael myers Returns to his home town to stalk these people. He murders 3 of them silently and subtlety. He does not speak. He walks slowly. He hides....<br /><br />Only one of the friends escapes, after being saved by Doctor Loomis (Michael\\'s pursuer and doctor) <br /><br />There is one reason why Halloween works so well. Simplicity. We don\\'t know where Michael is, we don\\'t know why he kills, and he frightens us. They\\'re the only reasons why we are afraid.<br /><br />John carpenter wrote the movie, and directed. He builds unbearable tension throughout the story, and scares to such a degree, that sometimes we cannot watch. And the climax is truly startling.<br /><br />As horror, this is essential. It is terrifying and well acted. It is also mysterious. Michael is a force, not a human. A force that cannot be denied.<br /><br />The sequels focused too much around Michael and his \"history\". This movie focuses on the fear of the unknown. Perhaps that\\'s why this thing is a masterpiece.'\n",
            "Round-trip:  in [UNK] a [UNK] [UNK] the release of john [UNK] [UNK] got people [UNK] around the [UNK] to [UNK] the evil that is michael [UNK] the [UNK] loved it the world loved it it was [UNK] and has gone down as one of the greatest movies in [UNK] [UNK] br plot [UNK] years after a murder took place four friends all [UNK] are [UNK] having it on with their [UNK] on [UNK] night after [UNK] from a [UNK] the night before michael [UNK] [UNK] to his home town to [UNK] these people he [UNK] 3 of them [UNK] and [UNK] he does not [UNK] he [UNK] [UNK] he [UNK] br only one of the friends [UNK] after being [UNK] by [UNK] [UNK] [UNK] [UNK] and [UNK] br br there is one reason why [UNK] works so well [UNK] we dont know where michael is we dont know why he [UNK] and he [UNK] us theyre the only [UNK] why we are [UNK] br john [UNK] [UNK] the movie and directed he [UNK] [UNK] [UNK] throughout the story and [UNK] to such a [UNK] that sometimes we cannot watch and the [UNK] is truly [UNK] br as horror this is [UNK] it is [UNK] and well [UNK] it is also [UNK] michael is a [UNK] not a human a [UNK] that cannot be [UNK] br the [UNK] [UNK] too much around michael and his history this movie [UNK] on the [UNK] of the [UNK] perhaps thats why this thing is a [UNK]                                                                                                                                                                                                                                                                                                                                                                                                                                       \n",
            "\n"
          ]
        }
      ],
      "source": [
        "for n in range(3):\n",
        "  print(\"Original: \", example[n].numpy())\n",
        "  # 打印编码-解码后的文本（通过词汇表 vocab 转换回单词）。\n",
        "  print(\"Round-trip: \", \" \".join(vocab[encoded_example[n]])) #encoded_example[n]是一个索引数组\n",
        "  # \" \".join(...)\t将单词列表还原为连贯文本。\n",
        "  print()"
      ]
    },
    {
      "cell_type": "markdown",
      "metadata": {
        "id": "bjUqGVBxGw-t"
      },
      "source": [
        "## Create the model"
      ]
    },
    {
      "cell_type": "markdown",
      "metadata": {
        "id": "W7zsmInBOCPO"
      },
      "source": [
        "![A drawing of the information flow in the model](https://github.com/tensorflow/text/blob/master/docs/tutorials/images/bidirectional.png?raw=1)"
      ]
    },
    {
      "cell_type": "markdown",
      "metadata": {
        "id": "bgs6nnSTGw-t"
      },
      "source": [
        "Above is a diagram of the model.\n",
        "\n",
        "1. This model can be build as a `tf.keras.Sequential`.\n",
        "\n",
        "2. The first layer is the `encoder`, which converts the text to a sequence of token indices.\n",
        "\n",
        "3. After the encoder is an embedding layer. An embedding layer stores one vector per word. When called, it converts the sequences of word indices to sequences of vectors. These vectors are trainable. After training (on enough data), words with similar meanings often have similar vectors.\n",
        "\n",
        "  This index-lookup is much more efficient than the equivalent operation of passing a one-hot encoded vector through a `tf.keras.layers.Dense` layer.\n",
        "\n",
        "4. A recurrent neural network (RNN) processes sequence input by iterating through the elements. RNNs pass the outputs from one timestep to their input on the next timestep.\n",
        "\n",
        "  The `tf.keras.layers.Bidirectional` wrapper can also be used with an RNN layer. This propagates the input forward and backwards through the RNN layer and then concatenates the final output.\n",
        "\n",
        "  * The main advantage of a bidirectional RNN is that the signal from the beginning of the input doesn't need to be processed all the way through every timestep to affect the output.  \n",
        "\n",
        "  * The main disadvantage of a bidirectional RNN is that you can't efficiently stream predictions as words are being added to the end.\n",
        "\n",
        "5. After the RNN has converted the sequence to a single vector the two `layers.Dense` do some final processing, and convert from this vector representation to a single logit as the classification output.\n"
      ]
    },
    {
      "cell_type": "markdown",
      "metadata": {
        "id": "V4fodCI7soQi"
      },
      "source": [
        "The code to implement this is below:"
      ]
    },
    {
      "cell_type": "code",
      "source": [
        "model = tf.keras.Sequential([\n",
        "    encoder, # 数据集\n",
        "    tf.keras.layers.Embedding(\n",
        "        input_dim=len(encoder.get_cocabulary()),\n",
        "        out_dim=64,\n",
        "        #这对于处理可变长度的序列非常重要。它告诉层在处理过程中忽略填充标记\n",
        "        #（用 0 表示）。填充通常用于使所有输入序列长度相同。\n",
        "        mask_zero=True),\n",
        "    tf.keras.layers.Bidirectional(tf.keras.layers.LSTM(64)),\n",
        "    tf.keras.layers.Dense(64, activation='relu'),\n",
        "    tf.keras.layers.Dense(1)\n",
        "])\n",
        "\n",
        " '''\n",
        " 此代码定义了一个使用双向 LSTM 分析文本并预测其情感的文本分类模型。该模型使用 Keras 构建，包含一个嵌入层将单词表示为向量，\n",
        " 密集层进行额外处理，以及一个输出层提供最终的感性预测。\n",
        " '''"
      ],
      "metadata": {
        "id": "pyPnUc2ybfOj"
      },
      "execution_count": null,
      "outputs": []
    },
    {
      "cell_type": "code",
      "execution_count": 21,
      "metadata": {
        "id": "LwfoBkmRYcP3"
      },
      "outputs": [],
      "source": [
        "model = tf.keras.Sequential([\n",
        "    encoder,  #\n",
        "    tf.keras.layers.Embedding(\n",
        "        input_dim=len(encoder.get_vocabulary()),\n",
        "        output_dim=64,\n",
        "        # Use masking to handle the variable sequence lengths\n",
        "        mask_zero=True),\n",
        "    tf.keras.layers.Bidirectional(tf.keras.layers.LSTM(64)),\n",
        "    tf.keras.layers.Dense(64, activation='relu'),\n",
        "    tf.keras.layers.Dense(1)\n",
        "])"
      ]
    },
    {
      "cell_type": "markdown",
      "metadata": {
        "id": "QIGmIGkkouUb"
      },
      "source": [
        "Please note that Keras sequential model is used here since all the layers in the model only have single input and produce single output. In case you want to use stateful RNN layer, you might want to build your model with Keras functional API or model subclassing so that you can retrieve and reuse the RNN layer states. Please check [Keras RNN guide](https://www.tensorflow.org/guide/keras/rnn#rnn_state_reuse) for more details."
      ]
    },
    {
      "cell_type": "markdown",
      "metadata": {
        "id": "kF-PsCk1LwjY"
      },
      "source": [
        "The embedding layer [uses masking](https://www.tensorflow.org/guide/keras/masking_and_padding) to handle the varying sequence-lengths. All the layers after the `Embedding` support masking:"
      ]
    },
    {
      "cell_type": "markdown",
      "source": [
        "####这可以让您知道模型中哪些层能够处理掩码输入（在处理具有可变长度的数据序列时通常需要）。\n",
        "* 想象你有一组不同长度的句子。为了使它们的长度相同，你需要在较短的句子中添加填充。掩码就像一组指令，告诉模型：“不要关注填充，专注于句子中的实际单词。”\n",
        "* 通过忽略无关的填充标记，模型可以更有效地从输入数据的有效部分学习，从而提高准确率。\n",
        "*高效训练：掩码有助于防止在填充标记上进行不必要的计算，使训练过程更快更高效。\n",
        "* 该代码行 print([layer.supports_masking for layer in model.layers]) 很重要，因为它检查您的模型中的层是否能够利用此掩码机制。这确保了您的模型能够正确处理可变长度的序列，并从实际数据而不是填充数据中有效地学习。"
      ],
      "metadata": {
        "id": "5VCjZcqHi6f5"
      }
    },
    {
      "cell_type": "code",
      "execution_count": 22,
      "metadata": {
        "id": "87a8-CwfKebw",
        "colab": {
          "base_uri": "https://localhost:8080/"
        },
        "outputId": "73af55c8-5238-4285-a6c6-6e957600cddf"
      },
      "outputs": [
        {
          "output_type": "stream",
          "name": "stdout",
          "text": [
            "[False, True, True, True, True]\n"
          ]
        }
      ],
      "source": [
        "print([layer.supports_masking for layer in model.layers])"
      ]
    },
    {
      "cell_type": "markdown",
      "metadata": {
        "id": "ZlS0iaUIWLpI"
      },
      "source": [
        "To confirm that this works as expected, evaluate a sentence twice. First, alone so there's no padding to mask:"
      ]
    },
    {
      "cell_type": "code",
      "source": [
        "# predict on a sample text without padding.\n",
        "\n",
        "sample_text = ('The movie was cool. The animation and the graphics '\n",
        "               'were out of this world. I would recommend this movie.')\n",
        "predictions = model.predict(tf.constant([sample_text], dtype=tf.string))\n",
        "print(predictions[0])"
      ],
      "metadata": {
        "colab": {
          "base_uri": "https://localhost:8080/"
        },
        "id": "dVF7dkoZtZzW",
        "outputId": "b4af0e54-b4cb-4086-ee5a-fdf7f7e05dcf"
      },
      "execution_count": 23,
      "outputs": [
        {
          "output_type": "stream",
          "name": "stdout",
          "text": [
            "\u001b[1m1/1\u001b[0m \u001b[32m━━━━━━━━━━━━━━━━━━━━\u001b[0m\u001b[37m\u001b[0m \u001b[1m1s\u001b[0m 1s/step\n",
            "[0.01619262]\n"
          ]
        }
      ]
    },
    {
      "cell_type": "markdown",
      "metadata": {
        "id": "K0VQmGnEWcuz"
      },
      "source": [
        "Now, evaluate it again in a batch with a longer sentence. The result should be identical:"
      ]
    },
    {
      "cell_type": "code",
      "execution_count": 25,
      "metadata": {
        "id": "UIgpuTeFNDzq",
        "colab": {
          "base_uri": "https://localhost:8080/"
        },
        "outputId": "c5ecfa04-3373-42ff-8f04-c23a94bfb77a"
      },
      "outputs": [
        {
          "output_type": "stream",
          "name": "stdout",
          "text": [
            "\u001b[1m1/1\u001b[0m \u001b[32m━━━━━━━━━━━━━━━━━━━━\u001b[0m\u001b[37m\u001b[0m \u001b[1m1s\u001b[0m 850ms/step\n",
            "[0.01619262]\n"
          ]
        }
      ],
      "source": [
        "# predict on a sample text with padding\n",
        "\n",
        "padding = \"the \" * 2000\n",
        "predictions = model.predict(tf.constant([sample_text, padding], dtype=tf.string))\n",
        "#print(predictions)\n",
        "print(predictions[0]) #多行文本不影响他的概率， 注意数据数据格式，显示转为张量"
      ]
    },
    {
      "cell_type": "markdown",
      "metadata": {
        "id": "sRI776ZcH3Tf"
      },
      "source": [
        "Compile the Keras model to configure the training process:"
      ]
    },
    {
      "cell_type": "code",
      "execution_count": 26,
      "metadata": {
        "id": "kj2xei41YZjC"
      },
      "outputs": [],
      "source": [
        "model.compile(loss=tf.keras.losses.BinaryCrossentropy(from_logits=True),\n",
        "              optimizer=tf.keras.optimizers.Adam(1e-4),\n",
        "              metrics=['accuracy'])"
      ]
    },
    {
      "cell_type": "markdown",
      "metadata": {
        "id": "zIwH3nto596k"
      },
      "source": [
        "## Train the model"
      ]
    },
    {
      "cell_type": "code",
      "execution_count": 27,
      "metadata": {
        "id": "hw86wWS4YgR2",
        "colab": {
          "base_uri": "https://localhost:8080/"
        },
        "outputId": "95fa10ea-a153-473a-ab6d-f6f34c4f96cd"
      },
      "outputs": [
        {
          "output_type": "stream",
          "name": "stdout",
          "text": [
            "Epoch 1/5\n",
            "\u001b[1m391/391\u001b[0m \u001b[32m━━━━━━━━━━━━━━━━━━━━\u001b[0m\u001b[37m\u001b[0m \u001b[1m730s\u001b[0m 2s/step - accuracy: 0.5062 - loss: 0.6870 - val_accuracy: 0.6917 - val_loss: 0.5651\n",
            "Epoch 2/5\n",
            "\u001b[1m391/391\u001b[0m \u001b[32m━━━━━━━━━━━━━━━━━━━━\u001b[0m\u001b[37m\u001b[0m \u001b[1m743s\u001b[0m 2s/step - accuracy: 0.7790 - loss: 0.4799 - val_accuracy: 0.8083 - val_loss: 0.3901\n",
            "Epoch 3/5\n",
            "\u001b[1m391/391\u001b[0m \u001b[32m━━━━━━━━━━━━━━━━━━━━\u001b[0m\u001b[37m\u001b[0m \u001b[1m712s\u001b[0m 2s/step - accuracy: 0.8458 - loss: 0.3580 - val_accuracy: 0.8391 - val_loss: 0.3593\n",
            "Epoch 4/5\n",
            "\u001b[1m391/391\u001b[0m \u001b[32m━━━━━━━━━━━━━━━━━━━━\u001b[0m\u001b[37m\u001b[0m \u001b[1m710s\u001b[0m 2s/step - accuracy: 0.8592 - loss: 0.3347 - val_accuracy: 0.8568 - val_loss: 0.3377\n",
            "Epoch 5/5\n",
            "\u001b[1m391/391\u001b[0m \u001b[32m━━━━━━━━━━━━━━━━━━━━\u001b[0m\u001b[37m\u001b[0m \u001b[1m708s\u001b[0m 2s/step - accuracy: 0.8633 - loss: 0.3220 - val_accuracy: 0.8510 - val_loss: 0.3569\n"
          ]
        }
      ],
      "source": [
        "history = model.fit(train_dataset, epochs=5,\n",
        "                    validation_data=test_dataset,\n",
        "                    validation_steps=30)"
      ]
    },
    {
      "cell_type": "code",
      "execution_count": 28,
      "metadata": {
        "id": "BaNbXi43YgUT",
        "colab": {
          "base_uri": "https://localhost:8080/"
        },
        "outputId": "36949de4-f635-437b-a814-1c43b9a17ac3"
      },
      "outputs": [
        {
          "output_type": "stream",
          "name": "stdout",
          "text": [
            "\u001b[1m391/391\u001b[0m \u001b[32m━━━━━━━━━━━━━━━━━━━━\u001b[0m\u001b[37m\u001b[0m \u001b[1m152s\u001b[0m 388ms/step - accuracy: 0.8560 - loss: 0.3532\n",
            "Test Loss: 0.35027891397476196\n",
            "Test Accuracy: 0.857200026512146\n"
          ]
        }
      ],
      "source": [
        "test_loss, test_acc = model.evaluate(test_dataset)\n",
        "\n",
        "print('Test Loss:', test_loss)\n",
        "print('Test Accuracy:', test_acc)"
      ]
    },
    {
      "cell_type": "code",
      "execution_count": 29,
      "metadata": {
        "id": "OZmwt_mzaQJk",
        "colab": {
          "base_uri": "https://localhost:8080/",
          "height": 616
        },
        "outputId": "f1dfb000-819d-43b6-b8e8-d6a8be9fb9a5"
      },
      "outputs": [
        {
          "output_type": "execute_result",
          "data": {
            "text/plain": [
              "(0.0, 0.6743337124586105)"
            ]
          },
          "metadata": {},
          "execution_count": 29
        },
        {
          "output_type": "display_data",
          "data": {
            "text/plain": [
              "<Figure size 1600x800 with 2 Axes>"
            ],
            "image/png": "[encoded data removed]"
          },
          "metadata": {}
        }
      ],
      "source": [
        "plt.figure(figsize=(16, 8))\n",
        "plt.subplot(1, 2, 1)\n",
        "plot_graphs(history, 'accuracy')\n",
        "plt.ylim(None, 1)\n",
        "plt.subplot(1, 2, 2)\n",
        "plot_graphs(history, 'loss')\n",
        "plt.ylim(0, None)"
      ]
    },
    {
      "cell_type": "markdown",
      "metadata": {
        "id": "DwSE_386uhxD"
      },
      "source": [
        "Run a prediction on a new sentence:\n",
        "\n",
        "If the prediction is >= 0.0, it is positive else it is negative."
      ]
    },
    {
      "cell_type": "markdown",
      "source": [
        "####2. Logits与概率的转换\n",
        "Logits：\n",
        "模型直接输出的值（范围\n",
        "(\n",
        "−\n",
        "∞\n",
        ",\n",
        "+\n",
        "∞\n",
        ")\n",
        "(−∞,+∞)），未经过sigmoid压缩。\n",
        "\n",
        "Sigmoid函数：\n",
        "将logits映射到 [0, 1] 的概率区间：\n",
        "![image.png](data:image/png;base64,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)\n",
        "\n",
        "\n"
      ],
      "metadata": {
        "id": "-1wOhtJMgQmj"
      }
    },
    {
      "cell_type": "code",
      "source": [
        "\n",
        "\n",
        "# 查看训练过程中的损失和准确率\n",
        "print(\"训练历史:\", history.history)\n"
      ],
      "metadata": {
        "colab": {
          "base_uri": "https://localhost:8080/"
        },
        "id": "vbuUrBi_0Yi8",
        "outputId": "ee9977d7-5333-41eb-f9f3-c29c477baa9a"
      },
      "execution_count": 30,
      "outputs": [
        {
          "output_type": "stream",
          "name": "stdout",
          "text": [
            "训练历史: {'accuracy': [0.5499600172042847, 0.8062400221824646, 0.8466399908065796, 0.8575199842453003, 0.8641600012779236], 'loss': [0.6574556827545166, 0.43655604124069214, 0.355171799659729, 0.33341121673583984, 0.31989508867263794], 'val_accuracy': [0.6916666626930237, 0.8083333373069763, 0.839062511920929, 0.8567708134651184, 0.8510416746139526], 'val_loss': [0.5650916695594788, 0.3901327848434448, 0.3593432605266571, 0.3376866281032562, 0.3569154739379883]}\n"
          ]
        }
      ]
    },
    {
      "cell_type": "code",
      "source": [
        "# 测试训练后的模型\n",
        "for text_batch, label_batch in train_dataset.take(1):\n",
        "    print(text_batch[0], type(text_batch[0]))\n",
        "    print(text_batch[0].shape)\n",
        "    print(len(text_batch))\n",
        "    print(type(text_batch), text_batch.shape)\n",
        "    predictions = model.predict(text_batch)\n",
        "    print(predictions.shape)\n",
        "    print(predictions[0], predictions[0].shape)\n",
        "    print(tf.sigmoid(predictions[:5]).numpy())  # 查看前5个预测结果\n",
        "    print(tf.sigmoid(predictions[:5]).numpy().shape)"
      ],
      "metadata": {
        "colab": {
          "base_uri": "https://localhost:8080/"
        },
        "id": "UY3lARde0CAE",
        "outputId": "8e279a9d-4f91-4c5d-dfaf-fc456604b779"
      },
      "execution_count": 31,
      "outputs": [
        {
          "output_type": "stream",
          "name": "stdout",
          "text": [
            "tf.Tensor(b'<br /><br />I watched this movie just a little while ago and I found that this movie was terrible! It moved very slowly and was hardly entertaining!<br /><br />Sorry for all those that liked it.... this is only my opinion!', shape=(), dtype=string) <class 'tensorflow.python.framework.ops.EagerTensor'>\n",
            "()\n",
            "64\n",
            "<class 'tensorflow.python.framework.ops.EagerTensor'> (64,)\n",
            "\u001b[1m2/2\u001b[0m \u001b[32m━━━━━━━━━━━━━━━━━━━━\u001b[0m\u001b[37m\u001b[0m \u001b[1m1s\u001b[0m 198ms/step\n",
            "(64, 1)\n",
            "[-1.0008882] (1,)\n",
            "[[0.26876682]\n",
            " [0.56207687]\n",
            " [0.94670796]\n",
            " [0.9303376 ]\n",
            " [0.73373467]]\n",
            "(5, 1)\n"
          ]
        }
      ]
    },
    {
      "cell_type": "code",
      "source": [
        "sample_text = ('The movie was cool. The animation and the graphics '\n",
        "               'were out of this world. I would recommend this movie.')\n",
        "print([sample_text])\n",
        "print(type([sample_text]))\n",
        "print(tf.constant([sample_text], dtype=tf.string).shape)\n",
        "print(type(tf.constant([sample_text], dtype=tf.string)))\n",
        "predictions = model.predict(tf.constant([sample_text], dtype=tf.string))\n",
        "print(predictions)\n",
        "print(predictions[0])"
      ],
      "metadata": {
        "colab": {
          "base_uri": "https://localhost:8080/"
        },
        "id": "NWf7h2jK46_b",
        "outputId": "23d9d1bc-9c5e-4f91-a039-c1f2e032311c"
      },
      "execution_count": 33,
      "outputs": [
        {
          "output_type": "stream",
          "name": "stdout",
          "text": [
            "['The movie was cool. The animation and the graphics were out of this world. I would recommend this movie.']\n",
            "<class 'list'>\n",
            "(1,)\n",
            "<class 'tensorflow.python.framework.ops.EagerTensor'>\n",
            "\u001b[1m1/1\u001b[0m \u001b[32m━━━━━━━━━━━━━━━━━━━━\u001b[0m\u001b[37m\u001b[0m \u001b[1m0s\u001b[0m 102ms/step\n",
            "[[0.7586971]]\n",
            "[0.7586971]\n"
          ]
        }
      ]
    },
    {
      "cell_type": "code",
      "execution_count": 38,
      "metadata": {
        "id": "ZXgfQSgRW6zU",
        "colab": {
          "base_uri": "https://localhost:8080/"
        },
        "outputId": "4fa1613e-d7c6-49d8-c61c-b2472d6d2bc9"
      },
      "outputs": [
        {
          "output_type": "stream",
          "name": "stdout",
          "text": [
            "\u001b[1m1/1\u001b[0m \u001b[32m━━━━━━━━━━━━━━━━━━━━\u001b[0m\u001b[37m\u001b[0m \u001b[1m0s\u001b[0m 51ms/step\n",
            "[[ 0.75869733]\n",
            " [-1.0467671 ]]\n",
            "[0.75869733]\n"
          ]
        }
      ],
      "source": [
        "sample_text = ('The movie was cool. The animation and the graphics '\n",
        "               'were out of this world. I would recommend this movie.')\n",
        "sample_text_2 = ('The movie was not good. The animation and the graphics '\n",
        "               'were terrible. I would not recommend this movie.')\n",
        "predictions = model.predict(tf.constant([sample_text,sample_text_2], dtype=tf.string))\n",
        "print(predictions) # 两个预测的数据\n",
        "print(predictions[0])"
      ]
    },
    {
      "cell_type": "code",
      "source": [
        "sample = np.array([\"The movie was great!\", 'dfdfd'])\n",
        "sample.shape"
      ],
      "metadata": {
        "id": "me417Kxgv7ev",
        "outputId": "5956bf85-5288-4564-8dea-8726360b195b",
        "colab": {
          "base_uri": "https://localhost:8080/"
        }
      },
      "execution_count": 40,
      "outputs": [
        {
          "output_type": "execute_result",
          "data": {
            "text/plain": [
              "(2,)"
            ]
          },
          "metadata": {},
          "execution_count": 40
        }
      ]
    },
    {
      "cell_type": "markdown",
      "metadata": {
        "id": "7g1evcaRpTKm"
      },
      "source": [
        "## Stack two or more LSTM layers\n",
        "\n",
        "Keras recurrent layers have two available modes that are controlled by the `return_sequences` constructor argument:\n",
        "\n",
        "* If `False` it returns only the last output for each input sequence (a 2D tensor of shape (batch_size, output_features)). This is the default, used in the previous model.\n",
        "\n",
        "* If `True` the full sequences of successive outputs for each timestep is returned (a 3D tensor of shape `(batch_size, timesteps, output_features)`).\n",
        "\n",
        "Here is what the flow of information looks like with `return_sequences=True`:\n",
        "\n",
        "![layered_bidirectional](https://github.com/tensorflow/text/blob/master/docs/tutorials/images/layered_bidirectional.png?raw=1)"
      ]
    },
    {
      "cell_type": "markdown",
      "metadata": {
        "id": "wbSClCrG1z8l"
      },
      "source": [
        "The interesting thing about using an `RNN` with `return_sequences=True` is that the output still has 3-axes, like the input, so it can be passed to another RNN layer, like this:"
      ]
    },
    {
      "cell_type": "code",
      "execution_count": 41,
      "metadata": {
        "id": "jo1jjO3vn0jo"
      },
      "outputs": [],
      "source": [
        "model = tf.keras.Sequential([\n",
        "    encoder,\n",
        "    tf.keras.layers.Embedding(len(encoder.get_vocabulary()), 64, mask_zero=True),\n",
        "    tf.keras.layers.Bidirectional(tf.keras.layers.LSTM(64,  return_sequences=True)),\n",
        "    tf.keras.layers.Bidirectional(tf.keras.layers.LSTM(32)),\n",
        "    tf.keras.layers.Dense(64, activation='relu'),\n",
        "    tf.keras.layers.Dropout(0.5),\n",
        "    tf.keras.layers.Dense(1)\n",
        "])"
      ]
    },
    {
      "cell_type": "code",
      "execution_count": 42,
      "metadata": {
        "id": "hEPV5jVGp-is"
      },
      "outputs": [],
      "source": [
        "model.compile(loss=tf.keras.losses.BinaryCrossentropy(from_logits=True),\n",
        "              optimizer=tf.keras.optimizers.Adam(1e-4),\n",
        "              metrics=['accuracy'])"
      ]
    },
    {
      "cell_type": "code",
      "execution_count": 43,
      "metadata": {
        "id": "LeSE-YjdqAeN",
        "outputId": "c040d03d-8fd2-41cf-beaf-b683b8bbfeff",
        "colab": {
          "base_uri": "https://localhost:8080/"
        }
      },
      "outputs": [
        {
          "output_type": "stream",
          "name": "stdout",
          "text": [
            "Epoch 1/5\n",
            "\u001b[1m391/391\u001b[0m \u001b[32m━━━━━━━━━━━━━━━━━━━━\u001b[0m\u001b[37m\u001b[0m \u001b[1m1356s\u001b[0m 3s/step - accuracy: 0.5112 - loss: 0.6849 - val_accuracy: 0.7578 - val_loss: 0.4572\n",
            "Epoch 2/5\n",
            "\u001b[1m391/391\u001b[0m \u001b[32m━━━━━━━━━━━━━━━━━━━━\u001b[0m\u001b[37m\u001b[0m \u001b[1m1353s\u001b[0m 3s/step - accuracy: 0.8159 - loss: 0.4066 - val_accuracy: 0.8448 - val_loss: 0.3447\n",
            "Epoch 3/5\n",
            "\u001b[1m391/391\u001b[0m \u001b[32m━━━━━━━━━━━━━━━━━━━━\u001b[0m\u001b[37m\u001b[0m \u001b[1m1357s\u001b[0m 3s/step - accuracy: 0.8520 - loss: 0.3461 - val_accuracy: 0.8484 - val_loss: 0.3329\n",
            "Epoch 4/5\n",
            "\u001b[1m391/391\u001b[0m \u001b[32m━━━━━━━━━━━━━━━━━━━━\u001b[0m\u001b[37m\u001b[0m \u001b[1m1402s\u001b[0m 4s/step - accuracy: 0.8581 - loss: 0.3309 - val_accuracy: 0.8208 - val_loss: 0.3503\n",
            "Epoch 5/5\n",
            "\u001b[1m391/391\u001b[0m \u001b[32m━━━━━━━━━━━━━━━━━━━━\u001b[0m\u001b[37m\u001b[0m \u001b[1m1401s\u001b[0m 4s/step - accuracy: 0.8613 - loss: 0.3167 - val_accuracy: 0.8542 - val_loss: 0.3221\n"
          ]
        }
      ],
      "source": [
        "history = model.fit(train_dataset, epochs=5,\n",
        "                    validation_data=test_dataset,\n",
        "                    validation_steps=30)"
      ]
    },
    {
      "cell_type": "code",
      "execution_count": 44,
      "metadata": {
        "id": "_LdwilM1qPM3",
        "outputId": "dca1d532-f8b5-4b8b-fc21-51ecb3f4dcb8",
        "colab": {
          "base_uri": "https://localhost:8080/"
        }
      },
      "outputs": [
        {
          "output_type": "stream",
          "name": "stdout",
          "text": [
            "\u001b[1m391/391\u001b[0m \u001b[32m━━━━━━━━━━━━━━━━━━━━\u001b[0m\u001b[37m\u001b[0m \u001b[1m273s\u001b[0m 697ms/step - accuracy: 0.8603 - loss: 0.3160\n",
            "Test Loss: 0.3138206899166107\n",
            "Test Accuracy: 0.8614400029182434\n"
          ]
        }
      ],
      "source": [
        "test_loss, test_acc = model.evaluate(test_dataset)\n",
        "\n",
        "print('Test Loss:', test_loss)\n",
        "print('Test Accuracy:', test_acc)"
      ]
    },
    {
      "cell_type": "code",
      "execution_count": 46,
      "metadata": {
        "id": "ykUKnAoqbycW",
        "outputId": "ef9ff23f-7fc5-4115-da7d-3989030e66d2",
        "colab": {
          "base_uri": "https://localhost:8080/"
        }
      },
      "outputs": [
        {
          "output_type": "stream",
          "name": "stderr",
          "text": [
            "WARNING:tensorflow:5 out of the last 8 calls to <function TensorFlowTrainer.make_predict_function.<locals>.one_step_on_data_distributed at 0x7ff43f4a4e00> triggered tf.function retracing. Tracing is expensive and the excessive number of tracings could be due to (1) creating @tf.function repeatedly in a loop, (2) passing tensors with different shapes, (3) passing Python objects instead of tensors. For (1), please define your @tf.function outside of the loop. For (2), @tf.function has reduce_retracing=True option that can avoid unnecessary retracing. For (3), please refer to https://www.tensorflow.org/guide/function#controlling_retracing and https://www.tensorflow.org/api_docs/python/tf/function for  more details.\n"
          ]
        },
        {
          "output_type": "stream",
          "name": "stdout",
          "text": [
            "\u001b[1m1/1\u001b[0m \u001b[32m━━━━━━━━━━━━━━━━━━━━\u001b[0m\u001b[37m\u001b[0m \u001b[1m1s\u001b[0m 1s/step\n",
            "[[-1.8602009]]\n"
          ]
        }
      ],
      "source": [
        "# predict on a sample text without padding.\n",
        "\n",
        "sample_text = ('The movie was not good. The animation and the graphics '\n",
        "               'were terrible. I would not recommend this movie.')\n",
        "predictions = model.predict(tf.constant([sample_text]))\n",
        "print(predictions)"
      ]
    },
    {
      "cell_type": "code",
      "source": [
        "model.save('rnn_model.keras')"
      ],
      "metadata": {
        "id": "4UZ0Yr4TWjwV"
      },
      "execution_count": 49,
      "outputs": []
    },
    {
      "cell_type": "code",
      "source": [
        "model.save('rnn_model.h5')"
      ],
      "metadata": {
        "id": "KbfBIvE9WMDe",
        "outputId": "031aa283-1484-487f-aa1b-0bd2fdbcb6af",
        "colab": {
          "base_uri": "https://localhost:8080/"
        }
      },
      "execution_count": 48,
      "outputs": [
        {
          "output_type": "stream",
          "name": "stderr",
          "text": [
            "WARNING:absl:You are saving your model as an HDF5 file via `model.save()` or `keras.saving.save_model(model)`. This file format is considered legacy. We recommend using instead the native Keras format, e.g. `model.save('my_model.keras')` or `keras.saving.save_model(model, 'my_model.keras')`. \n"
          ]
        }
      ]
    },
    {
      "cell_type": "code",
      "execution_count": 47,
      "metadata": {
        "id": "_YYub0EDtwCu",
        "outputId": "c2693ed1-a8b4-47f8-bd28-338afc1c7a52",
        "colab": {
          "base_uri": "https://localhost:8080/",
          "height": 460
        }
      },
      "outputs": [
        {
          "output_type": "display_data",
          "data": {
            "text/plain": [
              "<Figure size 1600x600 with 2 Axes>"
            ],
            "image/png": "[encoded data removed]"
          },
          "metadata": {}
        }
      ],
      "source": [
        "plt.figure(figsize=(16, 6))\n",
        "plt.subplot(1, 2, 1)\n",
        "plot_graphs(history, 'accuracy')\n",
        "plt.subplot(1, 2, 2)\n",
        "plot_graphs(history, 'loss')"
      ]
    },
    {
      "cell_type": "markdown",
      "source": [
        "####分析一下您提供的模型训练损失（Loss）和准确率（Accuracy）图像。\n",
        "\n",
        "图像信息分析：\n",
        "\n",
        "\n",
        "* 训练损失 (loss - 蓝线): 随着训练轮数（Epochs）的增加，训练损失持续下降，从最初的约 0.65 降低到第 4 轮的约 0.32。这表明模型在训练数据上的拟合程度越来越好，学习到了训练数据的特征。\n",
        "* 验证损失 (val_loss - 橙线): 验证损失在最初的 2 轮训练中迅速下降（从约 0.46 降至约 0.33），但在第 2 轮之后，验证损失趋于平缓，甚至在第 3 轮略有上升（约 0.35），之后又略微下降。\n",
        "* 对比: 在第 1 轮之后，训练损失持续下降，但验证损失在第 2 轮达到最低点后不再显著下降，甚至有反弹趋势。训练损失和验证损失之间的差距（Gap）从第 1 轮开始出现并逐渐稳定。\n",
        "####准确率（Accuracy）图像：:\n",
        "\n",
        "* 训练准确率 (accuracy - 蓝线): 训练准确率随着训练轮数增加而显著提高，尤其是在第一轮，之后增速放缓，最终达到约 0.86。这与训练损失下降的趋势一致。\n",
        "* 验证准确率 (val_accuracy - 橙线): 验证准确率也在前 2 轮快速提升（从约 0.76 升至约 0.85），但在第 2 轮达到峰值后，在第 3 轮有所下降（约 0.82），然后在第 4 轮又回升至约 0.855。\n",
        "* 对比: 训练准确率持续上升，而验证准确率在第 2 轮达到高点后出现波动，并且略低于训练准确率。\n",
        "####结论:\n",
        "\n",
        "综合损失和准确率图像来看：\n",
        "\n",
        "* 模型在训练初期学习效果显著，损失快速下降，准确率快速提升。\n",
        "大约在 第 2 轮（Epoch 2） 左右，模型在验证集上的表现达到最佳（验证损失最低，验证准确率最高）。\n",
        "* 在第 2 轮之后，训练损失继续下降，训练准确率继续上升，但验证损失不再下降（甚至略有上升），验证准确率也出现波动且不再显著提升。这是 过拟合（Overfitting） 的典型迹象。模型开始过度学习训练数据中的噪声或特定模式，导致其在未见过的验证数据上的泛化能力下降或停滞。\n",
        "####如何优化模型:\n",
        "\n",
        "针对观察到的过拟合现象，可以尝试以下优化策略：\n",
        "\n",
        "* 早停（Early Stopping）: 这是最直接的方法。根据图像，模型在第 2 轮左右验证效果最好。可以在训练过程中监控验证损失（val_loss）或验证准确率（val_accuracy），当验证指标不再改善或开始变差时，提前停止训练，并保存此时的模型权重。\n",
        "\n",
        "* 正则化（Regularization）:\n",
        "\n",
        "* L1/L2 正则化: 在模型的损失函数中加入权重的 L1 或 L2 范数惩罚项，可以限制模型复杂度，降低权重值，从而减轻过拟合。\n",
        "Dropout: 在训练过程中，随机将一部分神经元的输出设置为零。这强制网络学习更鲁棒的特征，减少神经元之间的协同适应，提高泛化能力。可以在全连接层或卷积层之后添加 Dropout 层。\n",
        "* 数据增强（Data Augmentation）: 如果是图像、文本等数据，可以通过旋转、翻转、缩放、裁剪、改变亮度/对比度、添加噪声等方法扩充训练数据集。增加数据的多样性可以帮助模型学习到更具泛化性的特征。\n",
        "\n",
        "* 减少模型复杂度: 如果模型过于复杂（层数过多、每层神经元过多），可以尝试简化模型结构，减少参数量，使其与数据量和任务难度更匹配。\n",
        "\n",
        "* 获取更多数据: 如果条件允许，增加训练数据的数量和多样性是提高模型泛化能力、对抗过拟合最有效的方法之一。\n",
        "\n",
        "* 调整学习率（Learning Rate）: 虽然当前图像主要指示过拟合，但有时调整学习率（例如，使用学习率衰减策略）也可能帮助模型找到更好的泛化点。\n",
        "\n",
        "* 批归一化（Batch Normalization）: 虽然主要作用是加速训练和稳定训练过程，但它有时也能起到轻微的正则化效果。\n",
        "\n",
        "####建议步骤:\n",
        "\n",
        "首先尝试 早停，根据验证损失或验证准确率在第 2 轮左右停止训练。\n",
        "如果早停后的性能仍不满意，可以尝试加入 Dropout 层或 L2 正则化。\n",
        "如果数据允许，实施 数据增强。\n",
        "如果上述方法效果有限，再考虑 简化模型结构 或 获取更多数据。\n",
        "选择哪种或哪几种优化方法取决于具体的任务、数据和模型架构。通常需要进行实验来找到最有效的组合。"
      ],
      "metadata": {
        "id": "fwR5f55YTuu3"
      }
    },
    {
      "cell_type": "markdown",
      "metadata": {
        "id": "9xvpE3BaGw_V"
      },
      "source": [
        "Check out other existing recurrent layers such as [GRU layers](https://www.tensorflow.org/api_docs/python/tf/keras/layers/GRU).\n",
        "\n",
        "If you're interested in building custom RNNs, see the [Keras RNN Guide](https://www.tensorflow.org/guide/keras/rnn).\n"
      ]
    }
  ],
  "metadata": {
    "colab": {
      "name": "text_classification_rnn.ipynb",
      "provenance": [],
      "include_colab_link": true
    },
    "kernelspec": {
      "display_name": "Python 3",
      "name": "python3"
    }
  },
  "nbformat": 4,
  "nbformat_minor": 0
}