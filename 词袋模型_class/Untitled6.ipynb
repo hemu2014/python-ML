{
  "nbformat": 4,
  "nbformat_minor": 0,
  "metadata": {
    "colab": {
      "provenance": [],
      "authorship_tag": "ABX9TyOYE3Kg4ZCqEfsD2vS4UbBW",
      "include_colab_link": true
    },
    "kernelspec": {
      "name": "python3",
      "display_name": "Python 3"
    },
    "language_info": {
      "name": "python"
    }
  },
  "cells": [
    {
      "cell_type": "markdown",
      "metadata": {
        "id": "view-in-github",
        "colab_type": "text"
      },
      "source": [
        "<a href=\"https://colab.research.google.com/github/hemu2014/python-ML/blob/main/%E8%AF%8D%E8%A2%8B%E6%A8%A1%E5%9E%8B_class/Untitled6.ipynb\" target=\"_parent\"><img src=\"https://colab.research.google.com/assets/colab-badge.svg\" alt=\"Open In Colab\"/></a>"
      ]
    },
    {
      "cell_type": "markdown",
      "source": [
        "###词袋模型，使用类显示"
      ],
      "metadata": {
        "id": "Vgqi3WXU0LPl"
      }
    },
    {
      "cell_type": "code",
      "execution_count": 1,
      "metadata": {
        "colab": {
          "base_uri": "https://localhost:8080/"
        },
        "id": "_ttSIp1Mw5S_",
        "outputId": "745ff090-0cb5-426d-c850-c50ca0aff067"
      },
      "outputs": [
        {
          "output_type": "stream",
          "name": "stdout",
          "text": [
            "{'this': 1, 'is': 1, 'a': 1, 'test': 1, '': 1}\n",
            "{1: 1, 2: 1, 3: 1, 4: 1, 5: 1}\n",
            "{'this': 1, 'is': 2, 'a': 3, 'test': 4, '': 5}\n",
            "---------------\n",
            "{'this': 3, 'is': 4, 'a': 4, 'test': 4, '': 1, 'to': 1, 'see': 1, 'if': 1, 'will': 1, 'work': 1}\n",
            "{1: 3, 2: 4, 3: 4, 4: 4, 5: 1, 6: 1, 7: 1, 8: 1, 9: 1, 10: 1}\n",
            "{'this': 1, 'is': 2, 'a': 3, 'test': 4, '': 5, 'to': 6, 'see': 7, 'if': 8, 'will': 9, 'work': 10}\n"
          ]
        }
      ],
      "source": [
        "class BagOfWordsEncoder:\n",
        "    def __init__(self):\n",
        "        self.vocab = {}\n",
        "        self.word_encoding = 1\n",
        "        self.bag = {}\n",
        "\n",
        "    def encode(self, text):\n",
        "        words = text.lower().split(\" \")\n",
        "        for word in words:\n",
        "            if word in self.vocab:\n",
        "                encoding = self.vocab[word]\n",
        "            else:\n",
        "                self.vocab[word] = self.word_encoding\n",
        "                encoding = self.word_encoding\n",
        "                self.word_encoding += 1\n",
        "            self.bag[encoding] = self.bag.get(encoding, 0) + 1\n",
        "\n",
        "# 使用示例\n",
        "encoder = BagOfWordsEncoder()\n",
        "text = \"this is a test \"\n",
        "text_2 = \"this is a test to see if this test will work is is test a a\"\n",
        "encoder.encode(text)\n",
        "new_dict = dict(zip(encoder.vocab.keys(), encoder.bag.values()))\n",
        "print(new_dict)\n",
        "print(encoder.bag)  # 输出编码后的词袋\n",
        "print(encoder.vocab)  # 输出词汇表\n",
        "print(\"---------------\")\n",
        "encoder.encode(text_2)\n",
        "new_dict = dict(zip(encoder.vocab.keys(), encoder.bag.values()))\n",
        "print(new_dict)\n",
        "print(encoder.bag)\n",
        "print(encoder.vocab)  # 词汇表没有改变"
      ]
    },
    {
      "cell_type": "markdown",
      "source": [
        "###优化， 将编码，分成**当前文本的统计**以及**总的统计-**--**一个属性访问**， **一个函数访问**"
      ],
      "metadata": {
        "id": "BPAUQW_V0i68"
      }
    },
    {
      "cell_type": "code",
      "source": [
        "class WordEncoder:\n",
        "    def __init__(self):\n",
        "        self.vocab = {}       # 记录单词到编码的映射（如 {'apple':1}）\n",
        "        self.word_freq = {}   # 新增：记录单词的总出现频率（如 {'apple':5}）\n",
        "        self.word_encoding = 1\n",
        "\n",
        "    def encode(self, text):\n",
        "        # 统计当前文本的词频（局部）\n",
        "        local_bag = {}\n",
        "        words = text.lower().split()\n",
        "\n",
        "        for word in words:\n",
        "            # 1. 分配编码（如果单词是新出现的）\n",
        "            if word not in self.vocab:\n",
        "                self.vocab[word] = self.word_encoding\n",
        "                self.word_encoding += 1\n",
        "\n",
        "            # 2. 更新当前文本的词频\n",
        "            encoding = self.vocab[word]\n",
        "            local_bag[encoding] = local_bag.get(encoding, 0) + 1\n",
        "\n",
        "            # 3. 更新全局总词频（新增逻辑）\n",
        "            self.word_freq[word] = self.word_freq.get(word, 0) + 1\n",
        "\n",
        "        return local_bag  # 返回当前文本的编码频率（可选）"
      ],
      "metadata": {
        "id": "ITVVIkBayinV"
      },
      "execution_count": 2,
      "outputs": []
    },
    {
      "cell_type": "code",
      "source": [
        "encoder = WordEncoder()\n",
        "text = \"this is a test \"\n",
        "text_2 = \"this is a test to see if this test will work is is test a a\"\n",
        "bag = encoder.encode(text)\n",
        "new_dict = dict(zip(encoder.vocab.keys(), encoder.word_freq.values())) # 总的频率\n",
        "print(new_dict)\n",
        "print(bag)  # 输出文本的当前频率\n",
        "print(encoder.vocab)  # 输出词汇表\n",
        "print(\"---------------\")\n",
        "bag_2 = encoder.encode(text_2)\n",
        "new_dict = dict(zip(encoder.vocab.keys(), encoder.word_freq.values()))\n",
        "print(new_dict)\n",
        "print(dict(zip(encoder.vocab.keys(), bag_2.values())))\n",
        "print(bag_2)\n",
        "print(encoder.vocab)"
      ],
      "metadata": {
        "colab": {
          "base_uri": "https://localhost:8080/"
        },
        "id": "rXqM4GBGy_Ss",
        "outputId": "f108b99c-cbcd-4760-b544-8d46b0c70fbd"
      },
      "execution_count": 4,
      "outputs": [
        {
          "output_type": "stream",
          "name": "stdout",
          "text": [
            "{'this': 1, 'is': 1, 'a': 1, 'test': 1}\n",
            "{1: 1, 2: 1, 3: 1, 4: 1}\n",
            "{'this': 1, 'is': 2, 'a': 3, 'test': 4}\n",
            "---------------\n",
            "{'this': 3, 'is': 4, 'a': 4, 'test': 4, 'to': 1, 'see': 1, 'if': 1, 'will': 1, 'work': 1}\n",
            "{'this': 2, 'is': 3, 'a': 3, 'test': 3, 'to': 1, 'see': 1, 'if': 1, 'will': 1, 'work': 1}\n",
            "{1: 2, 2: 3, 3: 3, 4: 3, 5: 1, 6: 1, 7: 1, 8: 1, 9: 1}\n",
            "{'this': 1, 'is': 2, 'a': 3, 'test': 4, 'to': 5, 'see': 6, 'if': 7, 'will': 8, 'work': 9}\n"
          ]
        }
      ]
    }
  ]
}